{
 "cells": [
  {
   "cell_type": "markdown",
   "metadata": {},
   "source": [
    "# SAIIE Workshop 05 October 2022\n",
    "<p style=\"font-size:x-large;\">Elementary introduction to Quantum Computing with Qiskit</p>"
   ]
  },
  {
   "cell_type": "markdown",
   "metadata": {},
   "source": [
    "In this short introductory notebook, we will delve into the basic mathematics to describe classical and  quantum computation, whereupon notions such as _quantum logic gates_ and _quantum logic circuits_ will be introduced. Throughout the notebook, there will be Qiskit demonstrations supplementing the explainations of the concepts. And finally, we will have a look at a quantum algorithm called Grover's search quantum algorithm."
   ]
  },
  {
   "cell_type": "markdown",
   "metadata": {
    "tags": []
   },
   "source": [
    "<h1>Table of Contents</h1>"
   ]
  },
  {
   "cell_type": "markdown",
   "metadata": {},
   "source": [
    "The notebook is structured as follows:\n",
    "1. Mathematics of computation\n",
    "2. Quantum Computation with Qiskit: Notation, Qubits, Circuits, Measurements\n",
    "5. Putting all together: Grover's quantum search  algorithm"
   ]
  },
  {
   "cell_type": "markdown",
   "metadata": {
    "tags": []
   },
   "source": [
    "# 1 Mathematics of computation"
   ]
  },
  {
   "cell_type": "markdown",
   "metadata": {
    "tags": [],
    "toc-hr-collapsed": true
   },
   "source": [
    "## 1.1 Boolean logic gates"
   ]
  },
  {
   "cell_type": "markdown",
   "metadata": {},
   "source": [
    "The most basic processing unit is a conventional computer is the so-called a transistor.\n",
    "In a nutshell, a transistor is an electronic switch, that either can block or pass current it\n",
    "through."
   ]
  },
  {
   "cell_type": "markdown",
   "metadata": {},
   "source": [
    "<div  style=\"text-align: center; padding: 20px 0px;\">\n",
    "    <img src=\"./assets/transistor.svg\" width=\"20%\"  height=\"20%\" />\n",
    "</div>"
   ]
  },
  {
   "cell_type": "markdown",
   "metadata": {},
   "source": [
    "These two states are abstractly associated with zero and one, respectively, and hence abstractly, the state of a transistor can be abstracted as a bit.  As such,  transistors can be composed with one another to make up _logic_ gates, which can perform basic Boolean operations. "
   ]
  },
  {
   "cell_type": "markdown",
   "metadata": {},
   "source": [
    "<div  style=\"text-align: center; padding: 20px 0px;\">\n",
    "    <img src=\"./assets/logic_gates.svg\" width=\"50%\"  height=\"50%\" />\n",
    "</div>"
   ]
  },
  {
   "cell_type": "markdown",
   "metadata": {},
   "source": [
    "The figures above shows the two bit operations such as **AND**, **OR**, **NAND**, and **XOR** Boolean operations, respectively.  To reaffirm our knowledge of the aforesaid gates, let us go through the python operations that implement them and print out their truth tables "
   ]
  },
  {
   "cell_type": "code",
   "execution_count": 236,
   "metadata": {},
   "outputs": [],
   "source": [
    "import warnings\n",
    "warnings.filterwarnings(\"ignore\")"
   ]
  },
  {
   "cell_type": "code",
   "execution_count": 237,
   "metadata": {},
   "outputs": [],
   "source": [
    "# import numpy \n",
    "import numpy as np\n",
    "\n",
    "# import HTML, display for rendering raw html in a cell\n",
    "from IPython.display import HTML, display\n",
    "\n",
    "# diplsay HTML\n",
    "def display_table(data, headers=None):\n",
    "    html = \"<table>\"\n",
    "    \n",
    "    if headers:\n",
    "        html += \"<tr>\"\n",
    "        for header in headers:\n",
    "            html += \"<th><h4>{}</h4></th>\".format(header)\n",
    "        html += \"<tr>\"\n",
    "    \n",
    "    for row in data:\n",
    "        html += \"<tr>\"\n",
    "        for field in row:\n",
    "            text = \"\"\n",
    "            if field:\n",
    "                text += \"T\"\n",
    "            else:\n",
    "                text += \"F\"\n",
    "            html += \"<td><h4>{}</h4></td>\".format(text)\n",
    "        html += \"</tr>\"\n",
    "    html += \"</table>\"\n",
    "    display(HTML(html))"
   ]
  },
  {
   "cell_type": "code",
   "execution_count": 238,
   "metadata": {},
   "outputs": [],
   "source": [
    "# define AND, XOR, OR, NAND\n",
    "def AND(truth_values):\n",
    "    x = truth_values[:, 0]\n",
    "    y = truth_values[:, 1]\n",
    "    output = np.append(truth_values, np.logical_and(x, y).reshape((-1, 1)), axis=1)    \n",
    "    return output\n",
    "\n",
    "def XOR(truth_values):\n",
    "    x = truth_values[:, 0]\n",
    "    y = truth_values[:, 1]\n",
    "    output = np.append(truth_values, np.logical_xor(x, y).reshape((-1, 1)), axis=1)    \n",
    "    return output\n",
    "\n",
    "def OR(truth_values):\n",
    "    x = truth_values[:, 0]\n",
    "    y = truth_values[:, 1]\n",
    "    output = np.append(truth_values, np.logical_or(x, y).reshape((-1, 1)), axis=1)    \n",
    "    return output\n",
    "\n",
    "def NAND(truth_values):\n",
    "    x = truth_values[:, 0]\n",
    "    y = truth_values[:, 1]\n",
    "    output = np.append(truth_values, np.logical_not(np.logical_and(x, y)).reshape((-1, 1)), axis=1)\n",
    "    return output"
   ]
  },
  {
   "cell_type": "code",
   "execution_count": 239,
   "metadata": {},
   "outputs": [],
   "source": [
    "## define possible truth values for two Boolean variables in a table\n",
    "truth_values = np.array([\n",
    "    [False, False],\n",
    "    [False, True],\n",
    "    [True, False],\n",
    "    [True, True]\n",
    "], dtype=bool)"
   ]
  },
  {
   "cell_type": "code",
   "execution_count": 240,
   "metadata": {},
   "outputs": [
    {
     "data": {
      "text/html": [
       "<table><tr><th><h4>X</h4></th><th><h4>Y</h4></th><th><h4>O</h4></th><tr><tr><td><h4>F</h4></td><td><h4>F</h4></td><td><h4>F</h4></td></tr><tr><td><h4>F</h4></td><td><h4>T</h4></td><td><h4>F</h4></td></tr><tr><td><h4>T</h4></td><td><h4>F</h4></td><td><h4>F</h4></td></tr><tr><td><h4>T</h4></td><td><h4>T</h4></td><td><h4>T</h4></td></tr></table>"
      ],
      "text/plain": [
       "<IPython.core.display.HTML object>"
      ]
     },
     "metadata": {},
     "output_type": "display_data"
    }
   ],
   "source": [
    "display_table(AND(truth_values), headers=[\"X\", \"Y\", \"O\"])"
   ]
  },
  {
   "cell_type": "code",
   "execution_count": 241,
   "metadata": {},
   "outputs": [
    {
     "data": {
      "text/html": [
       "<table><tr><th><h4>X</h4></th><th><h4>Y</h4></th><th><h4>O</h4></th><tr><tr><td><h4>F</h4></td><td><h4>F</h4></td><td><h4>F</h4></td></tr><tr><td><h4>F</h4></td><td><h4>T</h4></td><td><h4>T</h4></td></tr><tr><td><h4>T</h4></td><td><h4>F</h4></td><td><h4>T</h4></td></tr><tr><td><h4>T</h4></td><td><h4>T</h4></td><td><h4>F</h4></td></tr></table>"
      ],
      "text/plain": [
       "<IPython.core.display.HTML object>"
      ]
     },
     "metadata": {},
     "output_type": "display_data"
    }
   ],
   "source": [
    "display_table(XOR(truth_values), headers=[\"X\", \"Y\", \"O\"])"
   ]
  },
  {
   "cell_type": "code",
   "execution_count": 242,
   "metadata": {},
   "outputs": [
    {
     "data": {
      "text/html": [
       "<table><tr><th><h4>X</h4></th><th><h4>Y</h4></th><th><h4>O</h4></th><tr><tr><td><h4>F</h4></td><td><h4>F</h4></td><td><h4>F</h4></td></tr><tr><td><h4>F</h4></td><td><h4>T</h4></td><td><h4>T</h4></td></tr><tr><td><h4>T</h4></td><td><h4>F</h4></td><td><h4>T</h4></td></tr><tr><td><h4>T</h4></td><td><h4>T</h4></td><td><h4>T</h4></td></tr></table>"
      ],
      "text/plain": [
       "<IPython.core.display.HTML object>"
      ]
     },
     "metadata": {},
     "output_type": "display_data"
    }
   ],
   "source": [
    "display_table(OR(truth_values), headers=[\"X\", \"Y\", \"O\"])"
   ]
  },
  {
   "cell_type": "code",
   "execution_count": 243,
   "metadata": {},
   "outputs": [
    {
     "data": {
      "text/html": [
       "<table><tr><th><h4>X</h4></th><th><h4>Y</h4></th><th><h4>O</h4></th><tr><tr><td><h4>F</h4></td><td><h4>F</h4></td><td><h4>T</h4></td></tr><tr><td><h4>F</h4></td><td><h4>T</h4></td><td><h4>T</h4></td></tr><tr><td><h4>T</h4></td><td><h4>F</h4></td><td><h4>T</h4></td></tr><tr><td><h4>T</h4></td><td><h4>T</h4></td><td><h4>F</h4></td></tr></table>"
      ],
      "text/plain": [
       "<IPython.core.display.HTML object>"
      ]
     },
     "metadata": {},
     "output_type": "display_data"
    }
   ],
   "source": [
    "display_table(NAND(truth_values), headers=[\"X\", \"Y\", \"O\"])"
   ]
  },
  {
   "cell_type": "markdown",
   "metadata": {},
   "source": [
    "Next in the hierarchy, we can combine logic gates to form\n",
    "logic circuits that perform familiar operation such as adding two inputs, and eventually as we go up\n",
    "the hierarchy, we can perform any mathematical operation, such as multiplication, division and so\n",
    "on."
   ]
  },
  {
   "cell_type": "markdown",
   "metadata": {},
   "source": [
    "<div  style=\"text-align: center; padding: 20px 0px;\">\n",
    "    <img src=\"./assets/adder.svg\" width=\"20%\"  height=\"20%\" />\n",
    "</div>"
   ]
  },
  {
   "cell_type": "code",
   "execution_count": 244,
   "metadata": {},
   "outputs": [],
   "source": [
    "def HALF_ADDER(truth_values):\n",
    "    \"Bit half adder\"\n",
    "    x = truth_values[:, 0]\n",
    "    y = truth_values[:, 1]\n",
    "    s = np.logical_xor(x,y).reshape((-1, 1))\n",
    "    c = np.logical_and(x,y).reshape((-1, 1))\n",
    "    output = np.append(truth_values, np.c_[s, c], axis=1)\n",
    "    return output"
   ]
  },
  {
   "cell_type": "code",
   "execution_count": 245,
   "metadata": {},
   "outputs": [
    {
     "data": {
      "text/html": [
       "<table><tr><th><h4>X</h4></th><th><h4>Y</h4></th><th><h4>S</h4></th><th><h4>C</h4></th><tr><tr><td><h4>F</h4></td><td><h4>F</h4></td><td><h4>F</h4></td><td><h4>F</h4></td></tr><tr><td><h4>F</h4></td><td><h4>T</h4></td><td><h4>T</h4></td><td><h4>F</h4></td></tr><tr><td><h4>T</h4></td><td><h4>F</h4></td><td><h4>T</h4></td><td><h4>F</h4></td></tr><tr><td><h4>T</h4></td><td><h4>T</h4></td><td><h4>F</h4></td><td><h4>T</h4></td></tr></table>"
      ],
      "text/plain": [
       "<IPython.core.display.HTML object>"
      ]
     },
     "metadata": {},
     "output_type": "display_data"
    }
   ],
   "source": [
    "display_table(HALF_ADDER(truth_values), headers=[\"X\", \"Y\", \"S\", \"C\"])"
   ]
  },
  {
   "cell_type": "markdown",
   "metadata": {
    "tags": []
   },
   "source": [
    "## 1.2 Representation of bits"
   ]
  },
  {
   "cell_type": "markdown",
   "metadata": {},
   "source": [
    "Alternatively, we can describe  bits and on the logical operations defined on them in the language of linear algebra. In such a setting, the zero and one states correspond to unit vectors, $\\mathbf{e}_1$, $\\mathbf{e}_2$ in a inner product vector space $\\mathcal{V}$\n",
    "\n",
    "\\begin{align}\n",
    " & \\mathbf{e}_1 = \\mathbf{0} := \\begin{bmatrix} 1 & 0 \\end{bmatrix}^{\\mathsf{T}}, \\\\\n",
    " & \\mathbf{e}_2  = \\mathbf{1}: = \\begin{bmatrix} 0 & 1 \\end{bmatrix}^{\\mathsf{T}} ,\\\\\n",
    " & \\mathbf{e}_1^{\\mathsf{T}} \\mathbf{e}_2 = 0, \\\\\n",
    " & \\mathbf{e}_1^{\\mathsf{T}} \\mathbf{e}_1 = \\mathbf{e}_2^{\\mathsf{T}}\\mathbf{e}_2 = 1.\n",
    "\\end{align}"
   ]
  },
  {
   "cell_type": "markdown",
   "metadata": {},
   "source": [
    "<div  style=\"text-align: center; padding: 20px 0px;\">\n",
    "    <img src=\"./assets/cl_bit_0.svg\" width=\"20%\"  height=\"20%\" style=\"padding-right: 100px;\" />\n",
    "    <img src=\"./assets/cl_bit_1.svg\" width=\"20%\"  height=\"20%\" />\n",
    "</div>"
   ]
  },
  {
   "cell_type": "code",
   "execution_count": 246,
   "metadata": {},
   "outputs": [],
   "source": [
    "# For pretty printing vectors and matrices\n",
    "from qiskit.visualization import array_to_latex"
   ]
  },
  {
   "cell_type": "code",
   "execution_count": 247,
   "metadata": {},
   "outputs": [
    {
     "data": {
      "text/latex": [
       "$$\n",
       "\n",
       "\\begin{bmatrix}\n",
       "1  \\\\\n",
       " 0  \\\\\n",
       " \\end{bmatrix}\n",
       "$$"
      ],
      "text/plain": [
       "<IPython.core.display.Latex object>"
      ]
     },
     "execution_count": 247,
     "metadata": {},
     "output_type": "execute_result"
    }
   ],
   "source": [
    "# Define vector for '0' state\n",
    "ZERO = np.array([[1], [0]])\n",
    "\n",
    "# Pretty print vector\n",
    "array_to_latex(ZERO)"
   ]
  },
  {
   "cell_type": "code",
   "execution_count": 248,
   "metadata": {},
   "outputs": [
    {
     "data": {
      "text/latex": [
       "$$\n",
       "\n",
       "\\begin{bmatrix}\n",
       "0  \\\\\n",
       " 1  \\\\\n",
       " \\end{bmatrix}\n",
       "$$"
      ],
      "text/plain": [
       "<IPython.core.display.Latex object>"
      ]
     },
     "execution_count": 248,
     "metadata": {},
     "output_type": "execute_result"
    }
   ],
   "source": [
    "# Define vector for '1' state\n",
    "ONE = np.array([[0], [1]])\n",
    "\n",
    "# Pretty print vector\n",
    "array_to_latex(ONE)"
   ]
  },
  {
   "cell_type": "markdown",
   "metadata": {},
   "source": [
    "### 1.2.1 Identity operator"
   ]
  },
  {
   "cell_type": "code",
   "execution_count": 249,
   "metadata": {},
   "outputs": [
    {
     "data": {
      "text/latex": [
       "$$\n",
       "\n",
       "\\begin{bmatrix}\n",
       "1 & 0  \\\\\n",
       " 0 & 1  \\\\\n",
       " \\end{bmatrix}\n",
       "$$"
      ],
      "text/plain": [
       "<IPython.core.display.Latex object>"
      ]
     },
     "execution_count": 249,
     "metadata": {},
     "output_type": "execute_result"
    }
   ],
   "source": [
    "# Define matrix for identity operator\n",
    "IDENTITY = np.array([\n",
    "    [1, 0],\n",
    "    [0, 1]\n",
    "])\n",
    "\n",
    "# Pretty print identity operator\n",
    "array_to_latex(IDENTITY)"
   ]
  },
  {
   "cell_type": "markdown",
   "metadata": {},
   "source": [
    "#### 1.2.1.1 Action of identity on zero state"
   ]
  },
  {
   "cell_type": "markdown",
   "metadata": {},
   "source": [
    "<div  style=\"text-align: center; padding: 20px 0px;\">\n",
    "    <img src=\"./assets/identity_0.svg\" width=\"35%\"  height=\"35%\" />\n",
    "</div>"
   ]
  },
  {
   "cell_type": "code",
   "execution_count": 250,
   "metadata": {},
   "outputs": [
    {
     "data": {
      "text/latex": [
       "$$\n",
       "\n",
       "\\begin{bmatrix}\n",
       "1  \\\\\n",
       " 0  \\\\\n",
       " \\end{bmatrix}\n",
       "$$"
      ],
      "text/plain": [
       "<IPython.core.display.Latex object>"
      ]
     },
     "execution_count": 250,
     "metadata": {},
     "output_type": "execute_result"
    }
   ],
   "source": [
    "# Operate on '0' state with identity operator\n",
    "identity_dot_zero = np.dot(IDENTITY, ZERO)\n",
    "\n",
    "# Pretty print output vector\n",
    "array_to_latex(identity_dot_zero)"
   ]
  },
  {
   "cell_type": "markdown",
   "metadata": {},
   "source": [
    "#### 1.2.1.2 Action of identity on one state"
   ]
  },
  {
   "cell_type": "markdown",
   "metadata": {},
   "source": [
    "<div  style=\"text-align: center; padding: 20px 0px;\">\n",
    "    <img src=\"./assets/identity_1.svg\" width=\"35%\"  height=\"35%\" />\n",
    "</div>"
   ]
  },
  {
   "cell_type": "code",
   "execution_count": 251,
   "metadata": {},
   "outputs": [
    {
     "data": {
      "text/latex": [
       "$$\n",
       "\n",
       "\\begin{bmatrix}\n",
       "0  \\\\\n",
       " 1  \\\\\n",
       " \\end{bmatrix}\n",
       "$$"
      ],
      "text/plain": [
       "<IPython.core.display.Latex object>"
      ]
     },
     "execution_count": 251,
     "metadata": {},
     "output_type": "execute_result"
    }
   ],
   "source": [
    "# Operate on '1' state with identity operator\n",
    "identity_dot_one = np.dot(IDENTITY, ONE)\n",
    "\n",
    "# Pretty print output vector\n",
    "array_to_latex(identity_dot_one)"
   ]
  },
  {
   "cell_type": "markdown",
   "metadata": {
    "tags": []
   },
   "source": [
    "### 1.2.2 NOT operator"
   ]
  },
  {
   "cell_type": "code",
   "execution_count": 252,
   "metadata": {},
   "outputs": [
    {
     "data": {
      "text/latex": [
       "$$\n",
       "\n",
       "\\begin{bmatrix}\n",
       "0 & 1  \\\\\n",
       " 1 & 0  \\\\\n",
       " \\end{bmatrix}\n",
       "$$"
      ],
      "text/plain": [
       "<IPython.core.display.Latex object>"
      ]
     },
     "execution_count": 252,
     "metadata": {},
     "output_type": "execute_result"
    }
   ],
   "source": [
    "# Define matrix for NOT operator\n",
    "NOT = np.array([\n",
    "    [0, 1],\n",
    "    [1, 0]\n",
    "])\n",
    "\n",
    "# Pretty print NOT operator\n",
    "array_to_latex(NOT)"
   ]
  },
  {
   "cell_type": "markdown",
   "metadata": {},
   "source": [
    "#### 1.2.2.1 Action of NOT on zero state"
   ]
  },
  {
   "cell_type": "markdown",
   "metadata": {},
   "source": [
    "<div  style=\"text-align: center; padding: 20px 0px;\">\n",
    "    <img src=\"./assets/not_0.svg\" width=\"35%\"  height=\"35%\" />\n",
    "</div>"
   ]
  },
  {
   "cell_type": "code",
   "execution_count": 253,
   "metadata": {},
   "outputs": [
    {
     "data": {
      "text/latex": [
       "$$\n",
       "\n",
       "\\begin{bmatrix}\n",
       "0  \\\\\n",
       " 1  \\\\\n",
       " \\end{bmatrix}\n",
       "$$"
      ],
      "text/plain": [
       "<IPython.core.display.Latex object>"
      ]
     },
     "execution_count": 253,
     "metadata": {},
     "output_type": "execute_result"
    }
   ],
   "source": [
    "# Operate on '0' state with NOT operator\n",
    "not_dot_zero = np.dot(NOT, ZERO)\n",
    "\n",
    "# Pretty print output vector\n",
    "array_to_latex(not_dot_zero)"
   ]
  },
  {
   "cell_type": "markdown",
   "metadata": {},
   "source": [
    "#### 1.2.2.2 Action of NOT on zero state"
   ]
  },
  {
   "cell_type": "markdown",
   "metadata": {},
   "source": [
    "<div  style=\"text-align: center; padding: 20px 0px;\">\n",
    "    <img src=\"./assets/not_1.svg\" width=\"35%\"  height=\"35%\" />\n",
    "</div>"
   ]
  },
  {
   "cell_type": "code",
   "execution_count": 254,
   "metadata": {},
   "outputs": [
    {
     "data": {
      "text/latex": [
       "$$\n",
       "\n",
       "\\begin{bmatrix}\n",
       "1  \\\\\n",
       " 0  \\\\\n",
       " \\end{bmatrix}\n",
       "$$"
      ],
      "text/plain": [
       "<IPython.core.display.Latex object>"
      ]
     },
     "execution_count": 254,
     "metadata": {},
     "output_type": "execute_result"
    }
   ],
   "source": [
    "# Operate on '1' state with NOT operator\n",
    "not_dot_one = np.dot(NOT, ONE)\n",
    "\n",
    "# Pretty print output vector\n",
    "array_to_latex(not_dot_one)"
   ]
  },
  {
   "cell_type": "markdown",
   "metadata": {},
   "source": [
    "### 1.2.3 Constant ZERO"
   ]
  },
  {
   "cell_type": "code",
   "execution_count": 255,
   "metadata": {},
   "outputs": [
    {
     "data": {
      "text/latex": [
       "$$\n",
       "\n",
       "\\begin{bmatrix}\n",
       "1 & 1  \\\\\n",
       " 0 & 0  \\\\\n",
       " \\end{bmatrix}\n",
       "$$"
      ],
      "text/plain": [
       "<IPython.core.display.Latex object>"
      ]
     },
     "execution_count": 255,
     "metadata": {},
     "output_type": "execute_result"
    }
   ],
   "source": [
    "# Define matrix for CONSTANT-ZERO operator\n",
    "CONSTANT_ZERO = np.array([\n",
    "    [1, 1],\n",
    "    [0, 0]\n",
    "])\n",
    "\n",
    "# Pretty print NOT operator\n",
    "array_to_latex(CONSTANT_ZERO)"
   ]
  },
  {
   "cell_type": "code",
   "execution_count": 256,
   "metadata": {},
   "outputs": [
    {
     "data": {
      "text/latex": [
       "$$\n",
       "\n",
       "\\begin{bmatrix}\n",
       "1  \\\\\n",
       " 0  \\\\\n",
       " \\end{bmatrix}\n",
       "$$"
      ],
      "text/plain": [
       "<IPython.core.display.Latex object>"
      ]
     },
     "execution_count": 256,
     "metadata": {},
     "output_type": "execute_result"
    }
   ],
   "source": [
    "# Operate on '0' state with CONSTANT-ZERO operator\n",
    "constant_zero_dot_zero = np.dot(CONSTANT_ZERO, ZERO)\n",
    "\n",
    "# Pretty print output vector\n",
    "array_to_latex(constant_zero_dot_zero)"
   ]
  },
  {
   "cell_type": "code",
   "execution_count": 257,
   "metadata": {},
   "outputs": [
    {
     "data": {
      "text/latex": [
       "$$\n",
       "\n",
       "\\begin{bmatrix}\n",
       "1  \\\\\n",
       " 0  \\\\\n",
       " \\end{bmatrix}\n",
       "$$"
      ],
      "text/plain": [
       "<IPython.core.display.Latex object>"
      ]
     },
     "execution_count": 257,
     "metadata": {},
     "output_type": "execute_result"
    }
   ],
   "source": [
    "# Operate on '1' state with CONSTANT-ZERO operator\n",
    "constant_zero_dot_one = np.dot(CONSTANT_ZERO, ONE)\n",
    "\n",
    "# Pretty print output vector\n",
    "array_to_latex(constant_zero_dot_one)"
   ]
  },
  {
   "cell_type": "markdown",
   "metadata": {},
   "source": [
    "### Exercise"
   ]
  },
  {
   "cell_type": "code",
   "execution_count": 258,
   "metadata": {},
   "outputs": [],
   "source": [
    "# Define matrix for CONSTANT-ONE operator\n",
    "# CONSTANT_ONE = ..."
   ]
  },
  {
   "cell_type": "markdown",
   "metadata": {},
   "source": [
    "Both constant-zero and constant-one operations are non-reversible operations, that is, knowing only the output we cannot infer what the input to the operation was. This is becasue both constant-zero and constant-one erase and/or overwrite information. While on the other hand, both identity and NOT operations are reversible operations, knowing the output of the gate, we can directly infer what the input was. For our purposes, we particularly care about reversible operations as quantum logic gates (we will see later in the notebook) and during the talk are reversible operations. "
   ]
  },
  {
   "cell_type": "markdown",
   "metadata": {
    "tags": []
   },
   "source": [
    "### 1.3 Representation of multiple bits"
   ]
  },
  {
   "cell_type": "markdown",
   "metadata": {
    "tags": []
   },
   "source": [
    "#### 1.3.1 Kronecker products"
   ]
  },
  {
   "cell_type": "markdown",
   "metadata": {},
   "source": [
    "In this new language of ours of matrices and vectors, we can represent multiple bits from prior definitions through a mathematical operation called a **Kronecker product**, sometimes denoted by $\\otimes$. The Kronecker product operations on two matrices (or vectors) of arbitrary size resulting in a block matrix.  If $\\mathbf{A}$ is an $m \\times  n$ matrix and $\\mathbf{B}$ is a $p \\times q$ matrix, then the Kronecker product of $\\mathbf{A}$ and $\\mathbf{B}$, denoted as $\\mathbf{A} \\otimes  \\mathbf{B}$ is the  $pm \\times qn$ block matrix:\n",
    "\n",
    "$$\n",
    "\\mathbf{A} \\otimes \\mathbf{B} = \\begin{bmatrix} \\mathbf{A}_{11} \\mathbf{B} & \\cdots & \\mathbf{A}_{1n} \\mathbf{B}  \\\\ \\vdots & \\ddots & \\vdots \\\\ \\mathbf{A}_{m1} & \\cdots & \\mathbf{A}_{mn} \\mathbf{B} \\end{bmatrix}\n",
    "$$"
   ]
  },
  {
   "cell_type": "markdown",
   "metadata": {},
   "source": [
    "In `numpy`, the  kronecker product of two arrays is implemented by `numpy.kron(e1,e2)`."
   ]
  },
  {
   "cell_type": "markdown",
   "metadata": {},
   "source": [
    "<div  style=\"text-align: center; padding: 20px 0px;\">\n",
    "    <img src=\"./assets/ket_00.svg\" width=\"35%\"  height=\"35%\" />\n",
    "</div>"
   ]
  },
  {
   "cell_type": "code",
   "execution_count": 259,
   "metadata": {},
   "outputs": [
    {
     "data": {
      "text/latex": [
       "$$\n",
       "\n",
       "\\begin{bmatrix}\n",
       "1  \\\\\n",
       " 0  \\\\\n",
       " 0  \\\\\n",
       " 0  \\\\\n",
       " \\end{bmatrix}\n",
       "$$"
      ],
      "text/plain": [
       "<IPython.core.display.Latex object>"
      ]
     },
     "execution_count": 259,
     "metadata": {},
     "output_type": "execute_result"
    }
   ],
   "source": [
    "ZERO_ZERO = np.kron(ZERO, ZERO)\n",
    "\n",
    "# Pretty print output vector\n",
    "array_to_latex(ZERO_ZERO)"
   ]
  },
  {
   "cell_type": "markdown",
   "metadata": {},
   "source": [
    "<div  style=\"text-align: center; padding: 20px 0px;\">\n",
    "    <img src=\"./assets/ket_01.svg\" width=\"35%\"  height=\"35%\" />\n",
    "</div>"
   ]
  },
  {
   "cell_type": "code",
   "execution_count": 260,
   "metadata": {},
   "outputs": [
    {
     "data": {
      "text/latex": [
       "$$\n",
       "\n",
       "\\begin{bmatrix}\n",
       "0  \\\\\n",
       " 1  \\\\\n",
       " 0  \\\\\n",
       " 0  \\\\\n",
       " \\end{bmatrix}\n",
       "$$"
      ],
      "text/plain": [
       "<IPython.core.display.Latex object>"
      ]
     },
     "execution_count": 260,
     "metadata": {},
     "output_type": "execute_result"
    }
   ],
   "source": [
    "ZERO_ONE = np.kron(ZERO, ONE)\n",
    "\n",
    "# Pretty print output vector\n",
    "array_to_latex(ZERO_ONE)"
   ]
  },
  {
   "cell_type": "markdown",
   "metadata": {},
   "source": [
    "<div  style=\"text-align: center; padding: 20px 0px;\">\n",
    "    <img src=\"./assets/ket_10.svg\" width=\"35%\"  height=\"35%\" />\n",
    "</div>"
   ]
  },
  {
   "cell_type": "code",
   "execution_count": 261,
   "metadata": {},
   "outputs": [
    {
     "data": {
      "text/latex": [
       "$$\n",
       "\n",
       "\\begin{bmatrix}\n",
       "0  \\\\\n",
       " 0  \\\\\n",
       " 1  \\\\\n",
       " 0  \\\\\n",
       " \\end{bmatrix}\n",
       "$$"
      ],
      "text/plain": [
       "<IPython.core.display.Latex object>"
      ]
     },
     "execution_count": 261,
     "metadata": {},
     "output_type": "execute_result"
    }
   ],
   "source": [
    "ONE_ZERO = np.kron(ONE, ZERO)\n",
    "\n",
    "# Pretty print output vector\n",
    "array_to_latex(ONE_ZERO)"
   ]
  },
  {
   "cell_type": "markdown",
   "metadata": {},
   "source": [
    "<div  style=\"text-align: center; padding: 20px 0px;\">\n",
    "    <img src=\"./assets/ket_11.svg\" width=\"35%\"  height=\"35%\" />\n",
    "</div>"
   ]
  },
  {
   "cell_type": "code",
   "execution_count": 262,
   "metadata": {},
   "outputs": [
    {
     "data": {
      "text/latex": [
       "$$\n",
       "\n",
       "\\begin{bmatrix}\n",
       "0  \\\\\n",
       " 0  \\\\\n",
       " 0  \\\\\n",
       " 1  \\\\\n",
       " \\end{bmatrix}\n",
       "$$"
      ],
      "text/plain": [
       "<IPython.core.display.Latex object>"
      ]
     },
     "execution_count": 262,
     "metadata": {},
     "output_type": "execute_result"
    }
   ],
   "source": [
    "ONE_ONE = np.kron(ONE, ONE)\n",
    "\n",
    "# Pretty print output vector\n",
    "array_to_latex(ONE_ONE)"
   ]
  },
  {
   "cell_type": "markdown",
   "metadata": {
    "tags": []
   },
   "source": [
    "### 1.3.2 Multi-bit operations: controlled-NOT operation"
   ]
  },
  {
   "cell_type": "markdown",
   "metadata": {},
   "source": [
    "<div  style=\"text-align: center; padding: 20px 0px;\">\n",
    "    <img src=\"./assets/cX_circ.svg\" width=\"30%\"  height=\"30%\" />\n",
    "</div>"
   ]
  },
  {
   "cell_type": "code",
   "execution_count": 263,
   "metadata": {},
   "outputs": [],
   "source": [
    "def cNOT(truth_values):\n",
    "    \"controlled NOT\"\n",
    "    ci = truth_values[:, 0]\n",
    "    ti = truth_values[:, 1]\n",
    "    to = np.logical_xor(ci,ti).reshape((-1, 1))\n",
    "    output = np.append(truth_values, np.c_[ci, to], axis=1)\n",
    "    return output"
   ]
  },
  {
   "cell_type": "code",
   "execution_count": 264,
   "metadata": {},
   "outputs": [
    {
     "data": {
      "text/html": [
       "<table><tr><th><h4>ci</h4></th><th><h4>ti</h4></th><th><h4>co</h4></th><th><h4>to</h4></th><tr><tr><td><h4>F</h4></td><td><h4>F</h4></td><td><h4>F</h4></td><td><h4>F</h4></td></tr><tr><td><h4>F</h4></td><td><h4>T</h4></td><td><h4>F</h4></td><td><h4>T</h4></td></tr><tr><td><h4>T</h4></td><td><h4>F</h4></td><td><h4>T</h4></td><td><h4>T</h4></td></tr><tr><td><h4>T</h4></td><td><h4>T</h4></td><td><h4>T</h4></td><td><h4>F</h4></td></tr></table>"
      ],
      "text/plain": [
       "<IPython.core.display.HTML object>"
      ]
     },
     "metadata": {},
     "output_type": "display_data"
    }
   ],
   "source": [
    "display_table(cNOT(truth_values), headers=['ci', \"ti\", \"co\", \"to\"])"
   ]
  },
  {
   "cell_type": "markdown",
   "metadata": {
    "tags": []
   },
   "source": [
    "### 1.3.3 controlled-NOT operator"
   ]
  },
  {
   "cell_type": "code",
   "execution_count": 265,
   "metadata": {},
   "outputs": [
    {
     "data": {
      "text/latex": [
       "$$\n",
       "\n",
       "\\begin{bmatrix}\n",
       "1 & 0 & 0 & 0  \\\\\n",
       " 0 & 1 & 0 & 0  \\\\\n",
       " 0 & 0 & 0 & 1  \\\\\n",
       " 0 & 0 & 1 & 0  \\\\\n",
       " \\end{bmatrix}\n",
       "$$"
      ],
      "text/plain": [
       "<IPython.core.display.Latex object>"
      ]
     },
     "execution_count": 265,
     "metadata": {},
     "output_type": "execute_result"
    }
   ],
   "source": [
    "# 2 by 2 matrix of zeros\n",
    "ZEROS = np.zeros((2, 2))\n",
    "\n",
    "# define cNOT operator\n",
    "cNOT = np.block([\n",
    "    [IDENTITY, ZEROS],\n",
    "    [ZEROS, NOT]\n",
    "])\n",
    "\n",
    "# Pretty print cNOT operator\n",
    "array_to_latex(cNOT)"
   ]
  },
  {
   "cell_type": "markdown",
   "metadata": {},
   "source": [
    "#### 1.3.3.1 Action cNOT on 00"
   ]
  },
  {
   "cell_type": "markdown",
   "metadata": {},
   "source": [
    "<div  style=\"text-align: center; padding: 20px 0px;\">\n",
    "    <img src=\"./assets/cX_00.svg\" width=\"35%\"  height=\"35%\" />\n",
    "</div>"
   ]
  },
  {
   "cell_type": "code",
   "execution_count": 266,
   "metadata": {},
   "outputs": [
    {
     "data": {
      "text/latex": [
       "$$\n",
       "\n",
       "\\begin{bmatrix}\n",
       "1  \\\\\n",
       " 0  \\\\\n",
       " 0  \\\\\n",
       " 0  \\\\\n",
       " \\end{bmatrix}\n",
       "$$"
      ],
      "text/plain": [
       "<IPython.core.display.Latex object>"
      ]
     },
     "execution_count": 266,
     "metadata": {},
     "output_type": "execute_result"
    }
   ],
   "source": [
    "# Operate on '00' state with cNOT operator\n",
    "cnot_dot_zero_zero = np.dot(cNOT, ZERO_ZERO)\n",
    "\n",
    "# Pretty print output vector\n",
    "array_to_latex(cnot_dot_zero_zero)"
   ]
  },
  {
   "cell_type": "markdown",
   "metadata": {},
   "source": [
    "#### 1.3.3.2 Action cNOT on 01"
   ]
  },
  {
   "cell_type": "markdown",
   "metadata": {},
   "source": [
    "<div  style=\"text-align: center; padding: 20px 0px;\">\n",
    "    <img src=\"./assets/cX_01.svg\" width=\"35%\"  height=\"35%\" />\n",
    "</div>"
   ]
  },
  {
   "cell_type": "code",
   "execution_count": 267,
   "metadata": {},
   "outputs": [
    {
     "data": {
      "text/latex": [
       "$$\n",
       "\n",
       "\\begin{bmatrix}\n",
       "0  \\\\\n",
       " 1  \\\\\n",
       " 0  \\\\\n",
       " 0  \\\\\n",
       " \\end{bmatrix}\n",
       "$$"
      ],
      "text/plain": [
       "<IPython.core.display.Latex object>"
      ]
     },
     "execution_count": 267,
     "metadata": {},
     "output_type": "execute_result"
    }
   ],
   "source": [
    "# Operate on '01' state with cNOT operator\n",
    "cnot_dot_zero_one = np.dot(cNOT, ZERO_ONE)\n",
    "\n",
    "# Pretty print output vector\n",
    "array_to_latex(cnot_dot_zero_one)"
   ]
  },
  {
   "cell_type": "markdown",
   "metadata": {},
   "source": [
    "#### 1.3.3.3 Action cNOT on 10"
   ]
  },
  {
   "cell_type": "markdown",
   "metadata": {},
   "source": [
    "<div  style=\"text-align: center; padding: 20px 0px;\">\n",
    "    <img src=\"./assets/cX_10.svg\" width=\"35%\"  height=\"35%\" />\n",
    "</div>"
   ]
  },
  {
   "cell_type": "code",
   "execution_count": 268,
   "metadata": {},
   "outputs": [
    {
     "data": {
      "text/latex": [
       "$$\n",
       "\n",
       "\\begin{bmatrix}\n",
       "0  \\\\\n",
       " 0  \\\\\n",
       " 0  \\\\\n",
       " 1  \\\\\n",
       " \\end{bmatrix}\n",
       "$$"
      ],
      "text/plain": [
       "<IPython.core.display.Latex object>"
      ]
     },
     "execution_count": 268,
     "metadata": {},
     "output_type": "execute_result"
    }
   ],
   "source": [
    "# Operate on '10' state with cNOT operator\n",
    "cnot_dot_one_zero = np.dot(cNOT, ONE_ZERO)\n",
    "\n",
    "# Pretty print output vector\n",
    "array_to_latex(cnot_dot_one_zero)"
   ]
  },
  {
   "cell_type": "markdown",
   "metadata": {},
   "source": [
    "#### 1.3.3.4 Action cNOT on 11"
   ]
  },
  {
   "cell_type": "markdown",
   "metadata": {},
   "source": [
    "<div  style=\"text-align: center; padding: 20px 0px;\">\n",
    "    <img src=\"./assets/cX_11.svg\" width=\"35%\"  height=\"35%\" />\n",
    "</div>"
   ]
  },
  {
   "cell_type": "code",
   "execution_count": 269,
   "metadata": {},
   "outputs": [
    {
     "data": {
      "text/latex": [
       "$$\n",
       "\n",
       "\\begin{bmatrix}\n",
       "0  \\\\\n",
       " 0  \\\\\n",
       " 1  \\\\\n",
       " 0  \\\\\n",
       " \\end{bmatrix}\n",
       "$$"
      ],
      "text/plain": [
       "<IPython.core.display.Latex object>"
      ]
     },
     "execution_count": 269,
     "metadata": {},
     "output_type": "execute_result"
    }
   ],
   "source": [
    "# Operate on '11' state with cNOT operator\n",
    "cnot_dot_one_one = np.dot(cNOT, ONE_ONE)\n",
    "\n",
    "# Pretty print output vector\n",
    "array_to_latex(cnot_dot_one_one)"
   ]
  },
  {
   "cell_type": "markdown",
   "metadata": {
    "tags": []
   },
   "source": [
    " ## 2. Quantum Computation with Qiskit"
   ]
  },
  {
   "cell_type": "markdown",
   "metadata": {},
   "source": [
    "Here, we provide an overview of working with Qiskit. Qiskit provides the basic building blocks necessary to program quantum computers. The fundamental unit of Qiskit is the quantum circuit. A basic workflow using Qiskit consists of two stages: Build and Run. Build allows you to make different quantum circuits that represent the problem you are solving, and Run that allows you to run them on different backends. After the jobs have been run, the data is collected and postprocessed depending on the desired output."
   ]
  },
  {
   "cell_type": "code",
   "execution_count": 270,
   "metadata": {},
   "outputs": [],
   "source": [
    "from qiskit import QuantumCircuit\n",
    "from qiskit.quantum_info import Statevector"
   ]
  },
  {
   "cell_type": "markdown",
   "metadata": {
    "tags": []
   },
   "source": [
    "### 2.1 Operations on single qubits"
   ]
  },
  {
   "cell_type": "markdown",
   "metadata": {},
   "source": [
    "The basic element needed for your first program is the `QuantumCircuit`. We begin by creating a `QuantumCircuit` comprised of a single qubit. After you create the circuit with its registers, you can add gates (“operations”) to manipulate the registers. As you proceed through the tutorials you will find more gates and circuits;  below is an example of a quantum circuit that applies a NOT/X to a qubit initialized as the state zero (By default, each qubit in the register is initialized to $|0\\rangle$)"
   ]
  },
  {
   "cell_type": "markdown",
   "metadata": {},
   "source": [
    "### 2.1.1 NOT gate"
   ]
  },
  {
   "cell_type": "markdown",
   "metadata": {},
   "source": [
    "\\begin{align}\n",
    "X = \\begin{bmatrix} 0 & 1 \\\\ 1 & 0 \\end{bmatrix}\n",
    "\\end{align}"
   ]
  },
  {
   "cell_type": "code",
   "execution_count": 271,
   "metadata": {},
   "outputs": [
    {
     "data": {
      "text/plain": [
       "<qiskit.circuit.instructionset.InstructionSet at 0x1177977c0>"
      ]
     },
     "execution_count": 271,
     "metadata": {},
     "output_type": "execute_result"
    }
   ],
   "source": [
    "# Create quantum circuit with 1 qubit\n",
    "circ_not_zero = QuantumCircuit(1)\n",
    "\n",
    "# apply X gate to qubit\n",
    "circ_not_zero.x(0)"
   ]
  },
  {
   "cell_type": "markdown",
   "metadata": {},
   "source": [
    "You can visualize your circuit using Qiskit `QuantumCircuit`, which plots the circuit in the form found in many textbooks."
   ]
  },
  {
   "cell_type": "code",
   "execution_count": 272,
   "metadata": {},
   "outputs": [
    {
     "data": {
      "image/png": "[encoded data removed]",
      "text/plain": [
       "<Figure size 133.526x84.28 with 1 Axes>"
      ]
     },
     "execution_count": 272,
     "metadata": {},
     "output_type": "execute_result"
    }
   ],
   "source": [
    "# draw circuit\n",
    "circ_not_zero.draw(output=\"mpl\")"
   ]
  },
  {
   "cell_type": "markdown",
   "metadata": {},
   "source": [
    "In this circuit, the qubits are put in order, with qubit zero at the top (and qubit one would have been below qubit zero if there two qubits in the circuit). The circuit is read left to right (meaning that gates that are applied earlier in the circuit show up further to the left)."
   ]
  },
  {
   "cell_type": "markdown",
   "metadata": {},
   "source": [
    "To simulate a circuit we use `Statevector` from the quantum_info module in Qiskit. This simulator returns the quantum state, which is a complex vector of dimensions , where  is the number of qubits (so be careful using this as it will quickly get too large to run on your machine). We can use `Statevector` by simply providing it with a quantum circuit as input."
   ]
  },
  {
   "cell_type": "code",
   "execution_count": 273,
   "metadata": {},
   "outputs": [
    {
     "data": {
      "text/latex": [
       "$$\n",
       "\n",
       "\\begin{bmatrix}\n",
       "0  \\\\\n",
       " 1  \\\\\n",
       " \\end{bmatrix}\n",
       "$$"
      ],
      "text/plain": [
       "<IPython.core.display.Latex object>"
      ]
     },
     "execution_count": 273,
     "metadata": {},
     "output_type": "execute_result"
    }
   ],
   "source": [
    "sv_circ_not_zero = Statevector(circ_not_zero)\n",
    "\n",
    "# draw statevector as a vector\n",
    "array_to_latex(sv_circ_not_zero.data.reshape(-1, 1))"
   ]
  },
  {
   "cell_type": "markdown",
   "metadata": {},
   "source": [
    "As expected,  we recover the state vector for $|1\\rangle$ as the $X$ gate's action flips a single qubit state. Now let's look at a few  more examples:"
   ]
  },
  {
   "cell_type": "code",
   "execution_count": 274,
   "metadata": {},
   "outputs": [
    {
     "data": {
      "image/png": "[encoded data removed]",
      "text/plain": [
       "<Figure size 193.726x84.28 with 1 Axes>"
      ]
     },
     "execution_count": 274,
     "metadata": {},
     "output_type": "execute_result"
    }
   ],
   "source": [
    "# Create quantum circuit with 1 qubit\n",
    "circ_not_one = QuantumCircuit(1)\n",
    "\n",
    "# initialize qubit as 0\n",
    "circ_not_one.initialize(1)\n",
    "\n",
    "# apply X gate to qubit\n",
    "circ_not_one.x(0)\n",
    "\n",
    "# draw circuit\n",
    "circ_not_one.draw(output=\"mpl\")"
   ]
  },
  {
   "cell_type": "code",
   "execution_count": 275,
   "metadata": {},
   "outputs": [
    {
     "data": {
      "text/latex": [
       "$$\n",
       "\n",
       "\\begin{bmatrix}\n",
       "1  \\\\\n",
       " 0  \\\\\n",
       " \\end{bmatrix}\n",
       "$$"
      ],
      "text/plain": [
       "<IPython.core.display.Latex object>"
      ]
     },
     "execution_count": 275,
     "metadata": {},
     "output_type": "execute_result"
    }
   ],
   "source": [
    "array_to_latex(Statevector(circ_not_one).data.reshape(-1, 1))"
   ]
  },
  {
   "cell_type": "markdown",
   "metadata": {},
   "source": [
    "### 2.1.3 Hadamard gate"
   ]
  },
  {
   "cell_type": "markdown",
   "metadata": {},
   "source": [
    "\\begin{align}\n",
    "H = \\frac{1}{\\sqrt{2}}\\begin{bmatrix} 1 & 1 \\\\ 1 & -1 \\end{bmatrix}\n",
    "\\end{align}"
   ]
  },
  {
   "cell_type": "code",
   "execution_count": 276,
   "metadata": {},
   "outputs": [
    {
     "data": {
      "image/png": "[encoded data removed]",
      "text/plain": [
       "<Figure size 193.726x84.28 with 1 Axes>"
      ]
     },
     "execution_count": 276,
     "metadata": {},
     "output_type": "execute_result"
    }
   ],
   "source": [
    "# Create quantum circuit with 1 qubit\n",
    "circ_hadamard_zero = QuantumCircuit(1)\n",
    "\n",
    "# initialize qubit as 0\n",
    "circ_hadamard_zero.initialize(0)\n",
    "\n",
    "# apply H gate to qubit\n",
    "circ_hadamard_zero.h(0)\n",
    "\n",
    "# draw circuit\n",
    "circ_hadamard_zero.draw(output=\"mpl\")"
   ]
  },
  {
   "cell_type": "code",
   "execution_count": 277,
   "metadata": {},
   "outputs": [
    {
     "data": {
      "text/latex": [
       "$$\n",
       "\n",
       "\\begin{bmatrix}\n",
       "\\tfrac{1}{\\sqrt{2}}  \\\\\n",
       " \\tfrac{1}{\\sqrt{2}}  \\\\\n",
       " \\end{bmatrix}\n",
       "$$"
      ],
      "text/plain": [
       "<IPython.core.display.Latex object>"
      ]
     },
     "execution_count": 277,
     "metadata": {},
     "output_type": "execute_result"
    }
   ],
   "source": [
    "array_to_latex(Statevector(circ_hadamard_zero).data.reshape(-1, 1))"
   ]
  },
  {
   "cell_type": "code",
   "execution_count": 278,
   "metadata": {},
   "outputs": [
    {
     "data": {
      "image/png": "[encoded data removed]",
      "text/plain": [
       "<Figure size 193.726x84.28 with 1 Axes>"
      ]
     },
     "execution_count": 278,
     "metadata": {},
     "output_type": "execute_result"
    }
   ],
   "source": [
    "# Create quantum circuit with 1 qubit\n",
    "circ_hadamard_one = QuantumCircuit(1)\n",
    "\n",
    "# initialize qubit as 0\n",
    "circ_hadamard_one.initialize(1)\n",
    "\n",
    "# apply H gate to qubit\n",
    "circ_hadamard_one.h(0)\n",
    "\n",
    "# draw circuit\n",
    "circ_hadamard_one.draw(output=\"mpl\")"
   ]
  },
  {
   "cell_type": "code",
   "execution_count": 279,
   "metadata": {},
   "outputs": [
    {
     "data": {
      "text/latex": [
       "$$\n",
       "\n",
       "\\begin{bmatrix}\n",
       "\\tfrac{1}{\\sqrt{2}}  \\\\\n",
       " -\\tfrac{1}{\\sqrt{2}}  \\\\\n",
       " \\end{bmatrix}\n",
       "$$"
      ],
      "text/plain": [
       "<IPython.core.display.Latex object>"
      ]
     },
     "execution_count": 279,
     "metadata": {},
     "output_type": "execute_result"
    }
   ],
   "source": [
    "array_to_latex(Statevector(circ_hadamard_one).data.reshape(-1, 1))"
   ]
  },
  {
   "cell_type": "markdown",
   "metadata": {},
   "source": [
    "### 2.2 Measurements"
   ]
  },
  {
   "cell_type": "markdown",
   "metadata": {},
   "source": [
    " Real experiment terminates by measuring each qubit (usually in the computational  basis). Without measurement, we cannot gain information about the state. Measurements cause the quantum system to collapse into classical bits.  For example, suppose we make a measurement on a uninitialized qubit $|\\psi\\rangle = |0\\rangle$."
   ]
  },
  {
   "cell_type": "code",
   "execution_count": 280,
   "metadata": {},
   "outputs": [
    {
     "data": {
      "image/png": "[encoded data removed]",
      "text/plain": [
       "<Figure size 133.526x144.48 with 1 Axes>"
      ]
     },
     "execution_count": 280,
     "metadata": {},
     "output_type": "execute_result"
    }
   ],
   "source": [
    "# Create quantum circuit with 1 qubit and 1 classical bit\n",
    "circ_with_measurements = QuantumCircuit(1, 1)\n",
    " \n",
    "# measure qubit 0 and store it's measurement outcome in classical bit 0\n",
    "circ_with_measurements.measure(0,0)\n",
    "\n",
    "# draw circuit\n",
    "circ_with_measurements.draw(output=\"mpl\")"
   ]
  },
  {
   "cell_type": "markdown",
   "metadata": {},
   "source": [
    "According to Born Rule's, the the probability of obtaining outcome  $|0\\rangle $is given by:\n",
    "\n",
    "\\begin{align}\n",
    "    P(0) = |\\langle 0| \\psi \\rangle|^2 = |\\langle 0 | 0 \\rangle|^2 = 1\n",
    "\\end{align}"
   ]
  },
  {
   "cell_type": "markdown",
   "metadata": {},
   "source": [
    "To simulate a circuit that includes measurement, we can use an`Aer` backend, called `qasm_simulator`."
   ]
  },
  {
   "cell_type": "code",
   "execution_count": 281,
   "metadata": {},
   "outputs": [],
   "source": [
    "from qiskit import Aer, execute\n",
    "from qiskit.visualization import plot_histogram\n",
    "\n",
    "# import backend for simulating measurement outcomes\n",
    "backend = Aer.get_backend('qasm_simulator')"
   ]
  },
  {
   "cell_type": "markdown",
   "metadata": {},
   "source": [
    "To simulate this circuit, we use the `qasm_simulator` in Qiskit Aer. Each run of this circuit will yield either the bitstring as measurement outcome. To build up statistics about the distribution of the bitstrings (to, e.g., estimate ), we need to repeat the circuit many times. The number of times the circuit is repeated can be specified in the `execute` function, via the `shots` keyword."
   ]
  },
  {
   "cell_type": "code",
   "execution_count": 282,
   "metadata": {},
   "outputs": [],
   "source": [
    "# run circuit 1024 times on the simulator to accumulate a probability distribution of the 1024 measurement outcomes\n",
    "z_meas_result = execute(circ_with_measurements, backend=backend, shots=1024).result()"
   ]
  },
  {
   "cell_type": "markdown",
   "metadata": {},
   "source": [
    "Once you have a result object, you can access the counts via the function `get_counts(circuit)`. This gives you the aggregated binary outcomes of the circuit you submitted."
   ]
  },
  {
   "cell_type": "code",
   "execution_count": 283,
   "metadata": {},
   "outputs": [
    {
     "name": "stdout",
     "output_type": "stream",
     "text": [
      "{'0': 1024}\n"
     ]
    }
   ],
   "source": [
    "z_meas_counts = z_meas_result.get_counts()\n",
    "\n",
    "print(z_meas_counts)"
   ]
  },
  {
   "cell_type": "markdown",
   "metadata": {},
   "source": [
    "As expected, `100%` percent of the time, the bitstring '0' corresponding to the meausrement outcome of '0' on qubit zero. Qiskit also provides a function `plot_histogram`, which allows you to view the outcomes"
   ]
  },
  {
   "cell_type": "code",
   "execution_count": 284,
   "metadata": {},
   "outputs": [
    {
     "data": {
      "image/png": "[encoded data removed]",
      "text/plain": [
       "<Figure size 504x360 with 1 Axes>"
      ]
     },
     "execution_count": 284,
     "metadata": {},
     "output_type": "execute_result"
    }
   ],
   "source": [
    "# plot a histogram of the measurement outcomes\n",
    "plot_histogram(z_meas_counts)"
   ]
  },
  {
   "cell_type": "markdown",
   "metadata": {},
   "source": [
    "The estimated outcome probabilities are computed by taking the aggregate counts and dividing by the number of shots (times the circuit was repeated). Similarly, repeating the above steps, but this time initializing qubit zero to $|1\\rangle$."
   ]
  },
  {
   "cell_type": "code",
   "execution_count": 285,
   "metadata": {},
   "outputs": [
    {
     "data": {
      "image/png": "[encoded data removed]",
      "text/plain": [
       "<Figure size 504x360 with 1 Axes>"
      ]
     },
     "execution_count": 285,
     "metadata": {},
     "output_type": "execute_result"
    }
   ],
   "source": [
    "# Create quantum circuit with 1 qubit and 1 classical bit\n",
    "circ = QuantumCircuit(1, 1)\n",
    "\n",
    "# applyq X to qubit\n",
    "circ.x(0)\n",
    "\n",
    "# measure qubit\n",
    "circ.measure(0,0)\n",
    "\n",
    "# run circuit 1024 times on the simulator to accumulate a probability distribution of the 1024 measurement outcomes\n",
    "z_meas_counts = execute(circ, backend=backend, shots=1024).result().get_counts()\n",
    "\n",
    "# plot a histogram of the measurement outcomes\n",
    "plot_histogram(z_meas_counts)"
   ]
  },
  {
   "cell_type": "markdown",
   "metadata": {},
   "source": [
    "Hundred percent of the time, we obtain the bitstring '1' corresponding to the meausrement outcome of '1' on qubit zero. Let's take a look at one more example. Suppose we make measurements on a qubit prepared in the following superposition state:\n",
    " \n",
    " \\begin{align}\n",
    "     |\\psi\\rangle = \\frac{1}{\\sqrt{2}} (|0\\rangle + |1\\rangle)\n",
    " \\end{align}"
   ]
  },
  {
   "cell_type": "markdown",
   "metadata": {},
   "source": [
    "Recall the probability of obtaining an outcome $x$ is given by:\n",
    "\n",
    "\\begin{align}\n",
    "    P(x) = |\\langle x|\\psi\\rangle|^2 \n",
    "\\end{align}\n",
    "\n",
    "For the state above, the probabilities of obtaining the measurement outcomes $0$ or $1$ are both $\\frac{1}{2}$:\n",
    "\n",
    "\\begin{align}\n",
    "    P(0) =  \\langle 0 | \\psi \\rangle|^2 = | \\frac{1}{\\sqrt{2}} \\langle 0|0\\rangle + \\frac{1}{\\sqrt{2}} \\langle 0 | 1 \\rangle  |^2  = \\frac{1}{2} |1 + 0|^2 = \\frac{1}{2}, \\\\\n",
    "    P(1) =  \\langle 1 | \\psi \\rangle|^2 = | \\frac{1}{\\sqrt{2}} \\langle 1|0\\rangle + \\frac{1}{\\sqrt{2}} \\langle 1 | 1 \\rangle  |^2  = \\frac{1}{2} |0 + 1|^2 = \\frac{1}{2},\n",
    "\\end{align}"
   ]
  },
  {
   "cell_type": "markdown",
   "metadata": {},
   "source": [
    "To simulate a circuit that includes measurement of the above state, we follow similar steps as before"
   ]
  },
  {
   "cell_type": "code",
   "execution_count": 286,
   "metadata": {},
   "outputs": [
    {
     "data": {
      "image/png": "[encoded data removed]",
      "text/plain": [
       "<Figure size 193.726x144.48 with 1 Axes>"
      ]
     },
     "execution_count": 286,
     "metadata": {},
     "output_type": "execute_result"
    }
   ],
   "source": [
    "# Create quantum circuit with 1 qubit and 1 classical bit\n",
    "circ_superposition = QuantumCircuit(1, 1)\n",
    "\n",
    "# apply H to qubit 0, which prepares it in a superposition state.\n",
    "circ_superposition.h(0)\n",
    "\n",
    "# measure qubit\n",
    "circ_superposition.measure(0,0)\n",
    "\n",
    "# draw circuit\n",
    "circ_superposition.draw(output=\"mpl\")"
   ]
  },
  {
   "cell_type": "code",
   "execution_count": 287,
   "metadata": {},
   "outputs": [],
   "source": [
    "# run circuit 1024 times on the simulator to accumulate a probability distribution of the 1024 measurement outcomes\n",
    "z_meas_result = execute(circ_superposition, backend=backend, shots=1024).result()"
   ]
  },
  {
   "cell_type": "code",
   "execution_count": 288,
   "metadata": {},
   "outputs": [
    {
     "name": "stdout",
     "output_type": "stream",
     "text": [
      "{'0': 514, '1': 510}\n"
     ]
    }
   ],
   "source": [
    "z_meas_counts = z_meas_result.get_counts()\n",
    "\n",
    "print(z_meas_counts)"
   ]
  },
  {
   "cell_type": "code",
   "execution_count": 289,
   "metadata": {},
   "outputs": [
    {
     "data": {
      "image/png": "[encoded data removed]",
      "text/plain": [
       "<Figure size 504x360 with 1 Axes>"
      ]
     },
     "execution_count": 289,
     "metadata": {},
     "output_type": "execute_result"
    }
   ],
   "source": [
    "plot_histogram(z_meas_counts)"
   ]
  },
  {
   "cell_type": "markdown",
   "metadata": {},
   "source": [
    "Approximately 50 percent of the time, the measurement outcome 0, and 50 percent of the time we obtain the measurement outcome 1,and which of these will occur, we cannot predict before the measurement. The popular phrase, is that the state of the qubits is both of these states at the same time."
   ]
  },
  {
   "cell_type": "markdown",
   "metadata": {},
   "source": [
    "### Exercise"
   ]
  },
  {
   "cell_type": "code",
   "execution_count": 290,
   "metadata": {},
   "outputs": [],
   "source": [
    "# First,  let's get familiar with measuring qubits\n",
    "# Create quantum circuit with 1 qubit and 1 classical bit\n",
    "circ = QuantumCircuit(1, 1)\n",
    "\n",
    "# apply X to qubit\n",
    "# ...\n",
    "\n",
    "# apply H to qubit\n",
    "# ..\n",
    "\n",
    "# measure qubit\n",
    "# ..\n",
    "\n",
    "# draw circuit\n",
    "# .."
   ]
  },
  {
   "cell_type": "code",
   "execution_count": 291,
   "metadata": {},
   "outputs": [],
   "source": [
    "# run circuit 1024 times on the simulator to accumulate a probability distribution of the 1024 measurement outcomes\n",
    "# ..\n",
    "\n",
    "# before running the experiment, what do you expect to see?\n",
    "# plot a histogram of the measurement outcomes\n",
    "# .."
   ]
  },
  {
   "cell_type": "markdown",
   "metadata": {
    "tags": []
   },
   "source": [
    "## 3.3 Grokking the Bloch Sphere"
   ]
  },
  {
   "cell_type": "code",
   "execution_count": 318,
   "metadata": {},
   "outputs": [
    {
     "data": {
      "text/html": [
       "\n",
       "        <iframe\n",
       "            width=\"100%\"\n",
       "            height=\"700\"\n",
       "            src=\"https://javafxpert.github.io/grok-bloch/\"\n",
       "            frameborder=\"0\"\n",
       "            allowfullscreen\n",
       "            \n",
       "        ></iframe>\n",
       "        "
      ],
      "text/plain": [
       "<IPython.lib.display.IFrame at 0x124626b50>"
      ]
     },
     "execution_count": 318,
     "metadata": {},
     "output_type": "execute_result"
    }
   ],
   "source": [
    "from IPython.display import IFrame\n",
    "\n",
    "IFrame(\"https://javafxpert.github.io/grok-bloch/\",'100%', 700)"
   ]
  },
  {
   "cell_type": "markdown",
   "metadata": {},
   "source": [
    "The symbols shown on the right hand side of the `iframe` above are quantum logic gates defined as:\n",
    "\n",
    "\\begin{align}\n",
    "&X = \\begin{bmatrix} 0 & 1 \\\\ 1 & 0 \\end{bmatrix}  \\>\\>\n",
    "Y = \\begin{bmatrix} 0 & -i \\\\ i & 0 \\end{bmatrix}  \\>\\>\n",
    "S = \\begin{bmatrix} 1 & 0 \\\\ 0 & e^{i \\pi/2} \\end{bmatrix} \\>\\>\n",
    "T = \\begin{bmatrix} 1 & 0 \\\\ 0 & e^{i \\pi/4} \\end{bmatrix} \\>\\>\n",
    "H = \\frac{1}{\\sqrt{2}} \\begin{bmatrix} 1 & 1 \\\\ 1 & -1 \\end{bmatrix} \\\\\n",
    "& R_{x} = \\begin{bmatrix} \\cos{\\theta/2} & -i\\sin{\\theta/2}  \\\\ -i\\sin{\\theta/2} & \\cos{\\theta/2} \\end{bmatrix} \\>\\>\n",
    "R_{y} = \\begin{bmatrix} \\cos{\\theta/2} & -\\sin{\\theta/2}  \\\\ \\sin{\\theta/2} & \\cos{\\theta/2} \\end{bmatrix} \\>\\>\n",
    "R_{z} = \\begin{bmatrix} e^{-i\\phi/2} & 0 \\\\ 0 & e^{i\\phi/2}\\end{bmatrix}\n",
    "\\end{align}"
   ]
  },
  {
   "cell_type": "markdown",
   "metadata": {},
   "source": [
    "### 3.3 Entanglement"
   ]
  },
  {
   "cell_type": "markdown",
   "metadata": {},
   "source": [
    "#### 3.3.1  Product states"
   ]
  },
  {
   "cell_type": "markdown",
   "metadata": {},
   "source": [
    "We have previously seen that, by starting with two general single qubit states $|\\psi\\rangle$, $|\\phi\\rangle$, we can write a general two-qubit _product_ state as:\n",
    "\n",
    "\\begin{align}\n",
    "    |\\psi\\rangle \\otimes |\\phi\\rangle  = \\begin{bmatrix} \\alpha_1 \\\\ \\beta_1 \\end{bmatrix} \\otimes \\begin{bmatrix} \\alpha_2 \\\\ \\beta_2 \\end{bmatrix} = \\begin{bmatrix} \\alpha_1\\alpha_2 \\\\ \\alpha_1\\beta_2 \\\\ \\beta_1\\alpha_2 \\\\ \\beta_1\\beta_2\\end{bmatrix} = \\alpha_1\\alpha_2 |0\\rangle \\otimes |0\\rangle + \\alpha_1\\beta_2|0\\rangle \\otimes |1\\rangle + \\beta_1\\alpha_2 |1\\rangle \\otimes |0\\rangle + \\beta_1\\beta_2|1\\rangle \\otimes |1\\rangle.\n",
    "\\end{align}\n",
    "\n",
    "For example, choosing $\\alpha_1 = \\beta_1 = 1/\\sqrt{2}$ and $\\alpha_2 = 1, \\beta_2 = 0$, gives the following product state:\n",
    "\n",
    "\\begin{align}\n",
    "    |\\Psi\\rangle = \\frac{1}{\\sqrt{2}} (|0\\rangle \\otimes |0\\rangle + |1\\rangle \\otimes |0\\rangle).\n",
    "\\end{align}\n",
    "\n",
    "We can factorize as:\n",
    "\n",
    "\\begin{align}\n",
    "|\\Psi\\rangle = \\frac{1}{\\sqrt{2}}(|0\\rangle + |1\\rangle) \\otimes |0\\rangle,\n",
    "\\end{align}\n",
    "\n",
    "we observe that it is a product state of $|\\psi\\rangle = 1/\\sqrt{2} (|0\\rangle + |1\\rangle)$ and  $|\\phi\\rangle = |0\\rangle$."
   ]
  },
  {
   "cell_type": "markdown",
   "metadata": {
    "tags": []
   },
   "source": [
    "### 3.3.2 Entangled states"
   ]
  },
  {
   "cell_type": "markdown",
   "metadata": {},
   "source": [
    "In addition to product states, there is a class of multi-qubit states that cannot be written as a product state of single qubit states; such states are called _entangled_ states. An example of an entangled state is one of the Bell states $|\\Phi^{+}\\rangle$, which is given by:\n",
    "\n",
    "\\begin{align}\n",
    "|\\Phi^{+}\\rangle = \\frac{1}{\\sqrt{2}} (|0\\rangle\\otimes|0\\rangle + |1\\rangle\\otimes|1\\rangle)\n",
    "\\end{align}\n",
    "\n",
    "There are no pairs of single qubit states $|\\psi\\rangle$ and $|\\phi\\rangle$ whose product state would look like the above state. Try it; find $\\alpha_1, \\beta_1, \\alpha_2, \\beta_2$ such that\n",
    "\n",
    "\\begin{align}\n",
    "    \\alpha_1\\alpha_2 |0\\rangle \\otimes |0\\rangle + \\alpha_1\\beta_2|0\\rangle \\otimes |1\\rangle + \\beta_1\\alpha_2 |1\\rangle \\otimes |0\\rangle + \\beta_1\\beta_2|1\\rangle \\otimes |1\\rangle = \\frac{1}{\\sqrt{2}}(|0\\rangle\\otimes|0\\rangle + |1\\rangle\\otimes|1\\rangle)\n",
    "\\end{align}\n",
    "\n",
    "**Hint**: It's impossible!"
   ]
  },
  {
   "cell_type": "markdown",
   "metadata": {},
   "source": [
    "One of the peculiarities of entanglement is that the measurement outcomes of entangled qubits are mathematically correlated. These correlations are different from the ones we encounter in ordinary life, in that, whenever you influence an entangled qubit by act of measuring, it also influences the measurement outcomes of the other qubits that are entangled with it, _instantaneously_ across spacetime! Entanglement is a key ingredient of many aspects of quantum computing. It powers the algorithms and methods that we use, and it is a necessary part of any quantum advantage."
   ]
  },
  {
   "cell_type": "markdown",
   "metadata": {
    "tags": []
   },
   "source": [
    "## 4.0 Grover's search quantum algorithm"
   ]
  },
  {
   "cell_type": "markdown",
   "metadata": {},
   "source": [
    "In this secton, we will put together what we have learned thus far and walk through an example of Grover's quantum search algorithm."
   ]
  },
  {
   "cell_type": "markdown",
   "metadata": {},
   "source": [
    "### Problem statement"
   ]
  },
  {
   "cell_type": "markdown",
   "metadata": {},
   "source": [
    "Suppose we are given a indexable list of $N$ elements, for simplicity, without loss of generality, we shall take $N$ to be a power of two, _i.e_ $N=2^n$.  We wish to search through it, and find an index $x \\in [0, N-1]$ belonging to an item in the list satisfying a some criterion. Such a criterion can be conveniently represented by a function $f: \\{0,1,\\ldots, N-1\\} \\to \\{0, 1\\}$, which takes as input an integer $x$, in the range $0$ to $N − 1$; such that $f(x) = 1$ if $x$ is the index of the item satisfying criterion, and $f(x) = 0$ otherwise. For simplicity, we will also assume that there is one element for which $f(x) = 1$, and denote it by $\\bar{x}$. In such a scenario, we can express the criterion $f$ mathematically as:\n",
    "\n",
    "\\begin{align}\n",
    "    f(x) = \n",
    "    \\begin{cases}\n",
    "    1 & x=\\bar{x}, \\\\\n",
    "    0 & x\\neq\\bar{x}\n",
    "    \\end{cases}\n",
    "\\end{align}"
   ]
  },
  {
   "cell_type": "markdown",
   "metadata": {},
   "source": [
    "#### Problem analogy:"
   ]
  },
  {
   "cell_type": "markdown",
   "metadata": {},
   "source": [
    "On one faithful day, you happen to have locked yourself out of the laboratory and for some reason urgently need to access to your laboratory. To worsen your woes, you realize that you completely forgot the lock combination, but luckily you happen to recall that the lock in question uses a lock-mechanism as the one shown below; it has $n$-switches each of which has an “on” and “off ” setting, and the lock combination that unlocks your laboratory is some unique configuration $\\bar{x}$ of the $n$ switches, with each being either set to either “on” or “off ”."
   ]
  },
  {
   "cell_type": "markdown",
   "metadata": {},
   "source": [
    "<div>\n",
    "    <img src=\"./assets/switches.svg\" width=\"100%\"  height=\"100%\" />\n",
    "</div>"
   ]
  },
  {
   "cell_type": "markdown",
   "metadata": {},
   "source": [
    "#### In sum:\n",
    "\n",
    "Given an indexable list of $N$ element, find the index $\\bar{x}$ corresponding to an element that uniquely satifies the criterion $f$ _i.e._ $f(\\bar{x}) = 1$."
   ]
  },
  {
   "cell_type": "markdown",
   "metadata": {},
   "source": [
    "### Classical solution"
   ]
  },
  {
   "cell_type": "markdown",
   "metadata": {},
   "source": [
    "If you don’t have any a prior knowledge of the configuration $\\bar{x}$, the best you can do is to simply employ a guess and check strategy, _i.e._ randomly try a configuration you have not tried yet and check if it opens the lock. For example, you try the below combination:"
   ]
  },
  {
   "cell_type": "markdown",
   "metadata": {},
   "source": [
    "<div>\n",
    "    <img src=\"./assets/switches_comb.svg\" width=\"100%\"  height=\"100%\" />\n",
    "</div>"
   ]
  },
  {
   "cell_type": "markdown",
   "metadata": {},
   "source": [
    "In the worst-case scenario where you exhaust all $2^n$ combinations until you find $\\bar{x}$. The worst-case behaviour of such a strategy is to scale exponentially with the $n$, the number of switches in the lock mechanism, and denoted in $\\textsf{big-O}$ by $\\mathcal{O}(2^n)$"
   ]
  },
  {
   "cell_type": "markdown",
   "metadata": {},
   "source": [
    "### Quantum solution"
   ]
  },
  {
   "cell_type": "markdown",
   "metadata": {},
   "source": [
    "#### Search space mapping "
   ]
  },
  {
   "cell_type": "markdown",
   "metadata": {},
   "source": [
    "This particular instance of the search problem can mapped in a straightforward way, that is, we assign each index $x$ to correspond to each computational basis state $|x\\rangle$ in our $n$ qubit register."
   ]
  },
  {
   "cell_type": "markdown",
   "metadata": {},
   "source": [
    "#### Encoding the criterion: Oracle"
   ]
  },
  {
   "cell_type": "markdown",
   "metadata": {},
   "source": [
    "As a consequence of this mapping, the next issue we need to grapple with, is how do we realize the criterion $f$ for the mapped search space where each element is associated with quantum states? Grover's quantum search algorithm [3] realizes the criterion $f$ as a quantum circuit $U_{O}$ that changes the _phase_ of the quantum state corresponding to the solution to the search problem $\\bar{x}$. The action of the quantum circuit $U_{O}$ on an arbitrary $|x\\rangle$ basis state is given by:\n",
    "\n",
    "\\begin{align}\n",
    "|x\\rangle \\stackrel{U_{O}}{\\to}  (-1)^{f(x)}|x\\rangle\n",
    "\\end{align}\n",
    "\n",
    "where $f$ is defined as before: \n",
    "\n",
    "\\begin{align}\n",
    " f(x) = \n",
    " \\begin{cases}\n",
    "  1 & x=\\bar{x}, \\\\\n",
    "  0 & x\\neq\\bar{x}\n",
    " \\end{cases}\n",
    "\\end{align}\n",
    "\n",
    "Using this definition, we can define $U_{O}$ similarly:\n",
    "\n",
    "\\begin{align}\n",
    " U_{O}|x\\rangle = \n",
    " \\begin{cases}\n",
    "  (-1)^{f(x)}=(-1)^{1} = -|x\\rangle  & x=\\bar{x}, \\\\\n",
    "  (-1)^{f(x)}=(-1)^{0} = |x\\rangle & x\\neq\\bar{x}\n",
    " \\end{cases}\n",
    "\\end{align}\n",
    "\n",
    "As alluded to earlier, we see that $U_{O}$ changes the phase of the quantum state corresponding to the solution to the search problem, leaving the rest unchanged. Such a quantum circuit $U_O$ is represented by a diagonal matrix with $1$'s on the diagonal except the entry associated $\\bar{x}$, which has a $-1$. For instance, in the case where the solution to the search problem correspond to $|\\bar{x}\\rangle =|1\\rangle$, then $U_{O}$ takes the form:\n",
    "\n",
    "\n",
    "\\begin{align}\n",
    "    U_O =\n",
    " \\begin{bmatrix}\n",
    "   (-1)^{f(0)} & 0  & 0 & \\cdots & 0 \\\\\n",
    "   0 & (-1)^{f(1)} & 0 & \\cdots & 0 \\\\\n",
    "   0 & 0  & (-1)^{f(2)}      & \\cdots & 0 \\\\\n",
    "   \\vdots & \\vdots  & \\vdots  & \\ddots & \\vdots  \\\\\n",
    "   0 & 0 & \\cdots & 0 & (-1)^{f(2^n -1)} \n",
    " \\end{bmatrix}\n",
    " =\n",
    " \\begin{bmatrix}\n",
    "   1 & 0  & 0 & \\cdots & 0 \\\\\n",
    "   0 & -1 & 0 & \\cdots & 0 \\\\\n",
    "   0 & 0  & 1      & \\cdots & 0 \\\\\n",
    "   \\vdots & \\vdots  & \\vdots  & \\ddots & \\vdots  \\\\\n",
    "   0 & 0 & \\cdots & 0 & 1 \n",
    " \\end{bmatrix}\n",
    "\\end{align}"
   ]
  },
  {
   "cell_type": "markdown",
   "metadata": {},
   "source": [
    "#### Constructing oracle circuit in Qiskit"
   ]
  },
  {
   "cell_type": "markdown",
   "metadata": {},
   "source": [
    "Consider as an example a search space of modest size $N=2^2=4$. Such a search space can be mapped to two qubits, and the $4$ elements correspond to the $4$ basis states for two-qubit system: $|00\\rangle,|10\\rangle,|01\\rangle \\text{ and }|11\\rangle$ ($|0\\rangle, |1\\rangle, |2\\rangle \\text{ and }|3\\rangle$). We can use Qiskit to construct an parametrized oracle circuit for an arbitrary solution element in this space:"
   ]
  },
  {
   "cell_type": "code",
   "execution_count": 293,
   "metadata": {},
   "outputs": [],
   "source": [
    "from qiskit import QuantumCircuit, QuantumRegister\n",
    "from qiskit.circuit import Parameter"
   ]
  },
  {
   "cell_type": "code",
   "execution_count": 294,
   "metadata": {},
   "outputs": [
    {
     "data": {
      "image/png": "[encoded data removed]",
      "text/plain": [
       "<Figure size 327.252x144.48 with 1 Axes>"
      ]
     },
     "execution_count": 294,
     "metadata": {},
     "output_type": "execute_result"
    }
   ],
   "source": [
    "# Create quantum circuit with 2 qubits and name it U_O\n",
    "U_O = QuantumCircuit(2, name=\"U_O\")\n",
    "\n",
    "# initialize parameters alpha and beta\n",
    "alpha = Parameter(\"α\")\n",
    "beta = Parameter(\"β\")\n",
    "\n",
    "# build oracle circuit \n",
    "U_O.h(1)\n",
    "U_O.cx(0, 1)\n",
    "U_O.h(1)\n",
    "\n",
    "U_O.rz(alpha, 0)\n",
    "U_O.rz(beta, 1)\n",
    "\n",
    "U_O.draw(output=\"mpl\")"
   ]
  },
  {
   "cell_type": "markdown",
   "metadata": {},
   "source": [
    "The above circuit corresponds to the matrix\n",
    "\n",
    "\\begin{align}\n",
    "U_{O} = \n",
    "    \\begin{bmatrix}\n",
    "    e^{-i(\\alpha + \\beta)/2} & 0 & 0 & 0 \\\\\n",
    "    0 & e^{-i(\\alpha - \\beta)/2} & 0 & 0  \\\\\n",
    "    0 & 0 & e^{+i(\\alpha - \\beta)/2} & 0 \\\\\n",
    "    0 & 0 & 0 & -e^{+i(\\alpha + \\beta)/2}\n",
    "    \\end{bmatrix}\n",
    "\\end{align}"
   ]
  },
  {
   "cell_type": "markdown",
   "metadata": {},
   "source": [
    "With the values for $(\\alpha, \\beta)$ as  $(-\\pi, -\\pi), (0, -\\pi), (-\\pi, 0) \\text{ and } (0,0)$, we can algebraically verify that $U_{O}$ changes the phase of $|00\\rangle, |10\\rangle, |01\\rangle, |11\\rangle$ respectively. Consider $(\\alpha,\\beta)=(0,0)$\n",
    "\n",
    "\\begin{align}\n",
    "U_{O} = \n",
    "   \\begin{bmatrix}\n",
    "    e^{-i(0 + 0)/2} & 0 & 0 & 0 \\\\\n",
    "    0 & e^{-i(0 - 0)/2} & 0 & 0  \\\\\n",
    "    0 & 0 & e^{+i(0 - 0)/2} & 0 \\\\\n",
    "    0 & 0 & 0 & -e^{+i(0 + 0)/2}\n",
    "   \\end{bmatrix}\n",
    "    =\n",
    "   \\begin{bmatrix}\n",
    "    1 & 0 & 0 & 0 \\\\\n",
    "    0 & 1 & 0 & 0  \\\\\n",
    "    0 & 0 & 1 & 0 \\\\\n",
    "    0 & 0 & 0 & -1\n",
    "   \\end{bmatrix}\n",
    "\\end{align}\n",
    "\n",
    "All the diagonal entries are $1$, except the last diagonal entry corresponding to $|11\\rangle$ has $-1$. Let's verify with Qiskit that is indeed also the case when apply the above parametrized circuit with $(\\alpha, \\beta) = (0, 0)$ to the state $|11\\rangle$:"
   ]
  },
  {
   "cell_type": "code",
   "execution_count": 295,
   "metadata": {},
   "outputs": [
    {
     "data": {
      "image/png": "[encoded data removed]",
      "text/plain": [
       "<Figure size 206.852x144.48 with 1 Axes>"
      ]
     },
     "execution_count": 295,
     "metadata": {},
     "output_type": "execute_result"
    }
   ],
   "source": [
    "# Create quantum circuit with 2 qubit\n",
    "circ_one_one = QuantumCircuit(2)\n",
    "\n",
    "# apply x gates to both qubits 0 and 1\n",
    "circ_one_one.x([0, 1])\n",
    "\n",
    "# apply U_O with alpha and beta to both zero\n",
    "circ_one_one.append(U_O.to_gate({ alpha: 0, beta: 0}), [0, 1])\n",
    "\n",
    "# draw circuit\n",
    "circ_one_one.draw(output=\"mpl\")"
   ]
  },
  {
   "cell_type": "code",
   "execution_count": 296,
   "metadata": {},
   "outputs": [
    {
     "data": {
      "text/latex": [
       "$$\n",
       "\n",
       "\\begin{bmatrix}\n",
       "0  \\\\\n",
       " 0  \\\\\n",
       " 0  \\\\\n",
       " -1  \\\\\n",
       " \\end{bmatrix}\n",
       "$$"
      ],
      "text/plain": [
       "<IPython.core.display.Latex object>"
      ]
     },
     "execution_count": 296,
     "metadata": {},
     "output_type": "execute_result"
    }
   ],
   "source": [
    "array_to_latex(Statevector(circ_one_one).data.reshape(-1, 1))"
   ]
  },
  {
   "cell_type": "markdown",
   "metadata": {},
   "source": [
    "### Exercise"
   ]
  },
  {
   "cell_type": "markdown",
   "metadata": {},
   "source": [
    "Verify the above parametrized circuit with $(\\alpha, \\beta) = (-\\pi, -\\pi)$ changes the phase of the state $|00\\rangle$:"
   ]
  },
  {
   "cell_type": "code",
   "execution_count": 297,
   "metadata": {},
   "outputs": [
    {
     "data": {
      "image/png": "[encoded data removed]",
      "text/plain": [
       "<Figure size 116.552x144.48 with 1 Axes>"
      ]
     },
     "execution_count": 297,
     "metadata": {},
     "output_type": "execute_result"
    }
   ],
   "source": [
    "# Create quantum circuit with 2 qubits\n",
    "circ_zero_zero = QuantumCircuit(2)\n",
    "\n",
    "# initialize qubits to zero \n",
    "# ...\n",
    "\n",
    "# apply U_O with alpha and beta to both π.\n",
    "# ...\n",
    "\n",
    "# draw circuit\n",
    "circ_zero_zero.draw(output=\"mpl\")"
   ]
  },
  {
   "cell_type": "code",
   "execution_count": 298,
   "metadata": {},
   "outputs": [],
   "source": [
    "# print out state vector\n",
    "# ..."
   ]
  },
  {
   "cell_type": "markdown",
   "metadata": {},
   "source": [
    "#### Inversion about the average"
   ]
  },
  {
   "cell_type": "markdown",
   "metadata": {},
   "source": [
    "Suppose we prepared one uniform superposition of all basis states as the initial state and proceeded to apply oracle operation $U_{O}$, in this imagined scenario the oracle changes the phase of $|11\\rangle$. And finally performed measurements on both qubits, with the hope that we will measure the basis state with the relative sign (solution), we would be confronted with the following situation. Just before the measurement, the state of the two-qubit system is given by:\n",
    "\n",
    "\\begin{align}\n",
    "|\\psi \\rangle = \\frac{1}{2}\\left(|00\\rangle + |01\\rangle + |10\\rangle - |11\\rangle\\right)\n",
    "\\end{align}\n",
    "\n",
    "Using Born's rule, we observe that probability of any of these states is equally probable despite the $|11\\rangle$ having a relative phase in comparison to the rest:\n",
    "\n",
    "\\begin{align}\n",
    "|\\langle 00 | \\psi \\rangle|^2 = \\left(\\frac{1}{2}\\right)^2 | \\langle 00|00\\rangle + \\langle 00|01\\rangle + \\langle 00|10\\rangle - \\langle 00|11\\rangle |^2 = \\frac{1}{4}|1 + 0 + 0 - 0|^2 = \\frac{1}{4} \\\\\n",
    "|\\langle 01 | \\psi \\rangle|^2 = \\left(\\frac{1}{2}\\right)^2 | \\langle 01|00\\rangle + \\langle 01|01\\rangle + \\langle 01|10\\rangle - \\langle 01|11\\rangle |^2 = \\frac{1}{4}|0 + 1 + 0 - 0|^2 = \\frac{1}{4} \\\\\n",
    "|\\langle 10 | \\psi \\rangle|^2 = \\left(\\frac{1}{2}\\right)^2 | \\langle 10|00\\rangle + \\langle 10|01\\rangle + \\langle 10|10\\rangle - \\langle 10|11\\rangle |^2 = \\frac{1}{4}|0 + 0 + 1 - 0|^2 = \\frac{1}{4} \\\\\n",
    "|\\langle 11 | \\psi \\rangle|^2 = \\left(\\frac{1}{2}\\right)^2 | \\langle 11|00\\rangle + \\langle 11|01\\rangle + \\langle 11|10\\rangle - \\langle 11|11\\rangle |^2 = \\frac{1}{4}|0 + 0 + 0 - 1|^2 = \\frac{1}{4}\n",
    "\\end{align}\n",
    "\n",
    "Let's us verify with Qiskit:"
   ]
  },
  {
   "cell_type": "code",
   "execution_count": 299,
   "metadata": {},
   "outputs": [
    {
     "data": {
      "image/png": "[encoded data removed]",
      "text/plain": [
       "<Figure size 327.252x204.68 with 1 Axes>"
      ]
     },
     "execution_count": 299,
     "metadata": {},
     "output_type": "execute_result"
    }
   ],
   "source": [
    "# Create quantum circuit with 2 qubits and 2 classical bits\n",
    "circ_after_inv = QuantumCircuit(2, 2)\n",
    "\n",
    "# apply hadamard gates to both to prepare uniform superposition\n",
    "circ_after_inv.h([0, 1])\n",
    "\n",
    "# apply U_O with alpha and beta to both zero such that |11> has a negative phase. \n",
    "circ_after_inv.append(U_O.to_gate({ alpha: 0, beta: 0}), [0, 1])\n",
    "\n",
    "# measure both qubits\n",
    "circ_after_inv.measure([0, 1], [0, 1])\n",
    "\n",
    "# draw circuit\n",
    "circ_after_inv.draw(output=\"mpl\")"
   ]
  },
  {
   "cell_type": "code",
   "execution_count": 300,
   "metadata": {},
   "outputs": [
    {
     "data": {
      "image/png": "[encoded data removed]",
      "text/plain": [
       "<Figure size 504x360 with 1 Axes>"
      ]
     },
     "execution_count": 300,
     "metadata": {},
     "output_type": "execute_result"
    }
   ],
   "source": [
    "# run circuit 1024 times on the simulator to accumulate a probability distribution of the 1024 measurement outcomes\n",
    "z_meas_counts = execute(circ_after_inv, backend=backend, shots=1024).result().get_counts()\n",
    "\n",
    "# plot a histogram of the measurement outcomes\n",
    "plot_histogram(z_meas_counts)"
   ]
  },
  {
   "cell_type": "markdown",
   "metadata": {},
   "source": [
    "Hence, our chances are getting the solution are as good as a  guess-and-check strategy; we are going to need to do a little more than this."
   ]
  },
  {
   "cell_type": "markdown",
   "metadata": {},
   "source": [
    "Grover's quantum search algorithm has an additional subroutine that performs the so called inversion about the mean, which has the effect of increasing amplitudes with a negative phase (solution) while decreasing amplitudes with a positive phase (non-solutions), such that we perform measurements at the end, we measure the solution with high probability. The the action of the inversion about the mean operator, denoted by $\\hat{U}_\\text{inv}$, on a general state $\\sum_j \\alpha_j |j\\rangle$ is given by:\n",
    "\n",
    "\n",
    "\\begin{align}\n",
    "\\hat{U}_\\text{inv}\\sum_{j=0}^{2^n - 1}\\alpha_j|j\\rangle=\\sum_{j=0}^{2^n -1}\\left(2 \\langle \\alpha \\rangle - \\alpha_j \\right)|j\\rangle \n",
    "\\end{align}\n",
    "\n",
    "where $\\langle \\alpha \\rangle = \\sum_{j=0}^{2^n -1} \\alpha_j/2^{n/2}$ is the mean of the amplitudes $\\alpha_k$.\n",
    "\n",
    "The above operation amplifies the amplitudes of a tagged element $|j\\rangle$, since the corresponding amplitdue $\\alpha_j$ would be negative (new amplitude is $2\\langle \\alpha \\rangle + |\\alpha_j|$), while the probability amplitude of rest of the elments  $\\alpha_l$ for $l \\neq j$ are positive are surprassed (new amplitude is $2\\langle \\alpha \\rangle - |\\alpha_l|$)). I have left as an exercise for the reader to verify that aforesaid operator can be expressed as\n",
    "\n",
    "\\begin{align}\n",
    "\\hat{U}_\\text{inv} = \\hat{H}^{\\otimes n}U_\\text{cond}\\hat{H}^{\\otimes n}\n",
    "\\end{align}\n",
    "\n",
    "where $\\hat{H}^{\\otimes n}$ is a Hadamard gate applied to all qubits, and the middle operation performs a similar to the oracle operation $U_{O}$, namely a conditional phase shift on all the elements except the element $|00\\rangle=|0\\rangle$.\n",
    "\n",
    "\n",
    "\\begin{align}\n",
    " U_\\text{cond}|x\\rangle = \n",
    " \\begin{cases}\n",
    "    |x\\rangle & x = 0,\\\\\n",
    "   -|x\\rangle  & x\\neq 0\n",
    " \\end{cases}\n",
    "\\end{align}"
   ]
  },
  {
   "cell_type": "markdown",
   "metadata": {},
   "source": [
    "Let's implement the inversion about the mean operator $U_\\text{inv}$ as a quantum circuit with Qiskit. We begin by implementing the circuit for $U_\\text{cond}$, which closely resembles $U_\\text{O}$"
   ]
  },
  {
   "cell_type": "code",
   "execution_count": 301,
   "metadata": {},
   "outputs": [
    {
     "data": {
      "image/png": "[encoded data removed]",
      "text/plain": [
       "<Figure size 327.252x144.48 with 1 Axes>"
      ]
     },
     "execution_count": 301,
     "metadata": {},
     "output_type": "execute_result"
    }
   ],
   "source": [
    "# Create quantum circuit with 2 qubits\n",
    "U_cond = QuantumCircuit(2, name=\"U_cond\")\n",
    "\n",
    "# build on circuit for U_cond\n",
    "U_cond.h(1)\n",
    "U_cond.cx(0, 1)\n",
    "U_cond.h(1)\n",
    "U_cond.z(0)\n",
    "U_cond.z(1)\n",
    "\n",
    "# draw circuit\n",
    "U_cond.draw(output=\"mpl\")"
   ]
  },
  {
   "cell_type": "markdown",
   "metadata": {},
   "source": [
    "The above circuit corresponds to the matrix\n",
    "\n",
    "\\begin{align}\n",
    "U_\\text{cond} = \n",
    "    \\begin{bmatrix}\n",
    "    1 & 0 & 0 & 0 \\\\\n",
    "    0 & -1 & 0 & 0  \\\\\n",
    "    0 & 0 & -1 & 0 \\\\\n",
    "    0 & 0 & 0 & -1\n",
    "    \\end{bmatrix}\n",
    "\\end{align}\n",
    "\n",
    "This a special of the our parameterized $U_{O}$, I have left as an exercise for the reader to verify that the above matrix does the desired operation and find the values of $\\alpha, \\beta$ for $U_{O}$ that correspond to the above matrix."
   ]
  },
  {
   "cell_type": "markdown",
   "metadata": {},
   "source": [
    "### Exercise "
   ]
  },
  {
   "cell_type": "code",
   "execution_count": 302,
   "metadata": {},
   "outputs": [
    {
     "data": {
      "image/png": "[encoded data removed]",
      "text/plain": [
       "<Figure size 116.552x144.48 with 1 Axes>"
      ]
     },
     "execution_count": 302,
     "metadata": {},
     "output_type": "execute_result"
    }
   ],
   "source": [
    "# Create quantum circuit with 2 qubits\n",
    "circ_cond = QuantumCircuit(2)\n",
    "\n",
    "# initialize qubits to zero \n",
    "# ...\n",
    "\n",
    "# apply U_cond\n",
    "# ..\n",
    "\n",
    "# draw circuit\n",
    "circ_cond.draw(output=\"mpl\")"
   ]
  },
  {
   "cell_type": "code",
   "execution_count": 303,
   "metadata": {},
   "outputs": [],
   "source": [
    "# print out state vector to verify that a phase is applied to |00>\n",
    "# ..."
   ]
  },
  {
   "cell_type": "markdown",
   "metadata": {},
   "source": [
    "Finally, we arrive at the inversion about the mean operation by acting with $H^{\\otimes n}$ on the left and right of $U_\\text{cond}$."
   ]
  },
  {
   "cell_type": "code",
   "execution_count": 304,
   "metadata": {},
   "outputs": [
    {
     "data": {
      "image/png": "[encoded data removed]",
      "text/plain": [
       "<Figure size 327.252x144.48 with 1 Axes>"
      ]
     },
     "execution_count": 304,
     "metadata": {},
     "output_type": "execute_result"
    }
   ],
   "source": [
    "# Create quantum circuit with 2 qubits\n",
    "U_inv = QuantumCircuit(2, name=\"U_inv\")\n",
    "\n",
    "\n",
    "# apply hadamard on both sides of the U_cond \n",
    "U_inv.h([0,1])\n",
    "U_inv.append(U_cond, [0,1])\n",
    "U_inv.h([0,1])\n",
    "\n",
    "U_inv.draw(output=\"mpl\")"
   ]
  },
  {
   "cell_type": "markdown",
   "metadata": {},
   "source": [
    "The above circuit corresponds to the matrix\n",
    "\n",
    "\\begin{align}\n",
    "U_\\text{cond} = \n",
    "    \\begin{bmatrix}\n",
    "    1 & 0 & 0 & 0 \\\\\n",
    "    0 & -1 & 0 & 0  \\\\\n",
    "    0 & 0 & -1 & 0 \\\\\n",
    "    0 & 0 & 0 & -1\n",
    "    \\end{bmatrix}\n",
    "\\end{align}"
   ]
  },
  {
   "cell_type": "markdown",
   "metadata": {},
   "source": [
    "### Putting all together"
   ]
  },
  {
   "cell_type": "markdown",
   "metadata": {},
   "source": [
    "The procedure of the Grover's search algorithm is as follows:\n",
    "\n",
    "1. Prepare an initial state that is a superposition of all possible elements\n",
    "\n",
    "\\begin{align}\n",
    "H^{\\otimes n} |0\\rangle^{\\otimes n} =|\\psi\\rangle = \\frac{1}{2^{n/2}}\\sum_{j=0}^{2^n -1} |j\\rangle\n",
    "\\end{align}\n",
    "\n",
    "2. Query oracle by applying the operation $\\hat{U}_{O}$ \n",
    "\n",
    "\\begin{align}\n",
    "\\hat{U}_{O}|\\psi\\rangle = \\frac{1}{2^{n/2}}\\sum_{j=0}^{2^n -1} \\hat{U}_{O}|j\\rangle\n",
    "\\end{align}\n",
    "\n",
    "3. Apply the mean-inversion-about-the operation\n",
    "\n",
    "\\begin{align}\n",
    "\\hat{U}_{inv} \\hat{U}_{O}|\\psi\\rangle = \\frac{1}{2^{n/2}}\\sum_{j=0}^{2^n -1} \\hat{U}_{inv} \\hat{U}_{O}|j\\rangle\n",
    "\\end{align}\n",
    "\n",
    "4. Repeat step 2 and 3 $k = \\mathcal{O}(2^{n/2})$ times (only once for this example)\n",
    "\n",
    "\\begin{align}\n",
    "(\\hat{U}_{inv} \\hat{U}_{O})^{k}|\\psi\\rangle = \\frac{1}{2^{n/2}}\\sum_{j=0}^{2^n -1} (\\hat{U}_{inv} \\hat{U}_{O})^{k}|j\\rangle\n",
    "\\end{align}\n",
    "\n",
    "5. Measure $n$ all qubits"
   ]
  },
  {
   "cell_type": "markdown",
   "metadata": {},
   "source": [
    "### Run Grover's algorithm on noiseless simulator"
   ]
  },
  {
   "cell_type": "code",
   "execution_count": 305,
   "metadata": {},
   "outputs": [
    {
     "data": {
      "image/png": "[encoded data removed]",
      "text/plain": [
       "<Figure size 447.652x204.68 with 1 Axes>"
      ]
     },
     "execution_count": 305,
     "metadata": {},
     "output_type": "execute_result"
    }
   ],
   "source": [
    "# Create quantum circuit with 2 qubits and 2 classical bits\n",
    "grover = QuantumCircuit(2, 2)\n",
    "\n",
    "# apply hadamard to both qubits to prepare uniform superposition\n",
    "grover.h([0, 1])\n",
    "\n",
    "# apply U_O\n",
    "grover.append(U_O, [0, 1])\n",
    "\n",
    "# apply U_inv\n",
    "grover.append(U_inv, [0, 1])\n",
    "\n",
    "# measure both qubits\n",
    "grover.measure([0, 1], [0, 1])\n",
    "\n",
    "\n",
    "grover.draw(output=\"mpl\")"
   ]
  },
  {
   "cell_type": "code",
   "execution_count": 306,
   "metadata": {},
   "outputs": [],
   "source": [
    "# Oracle tags\n",
    "# (0, 0) - Oracle tags 11\n",
    "# (0, π) - Oracle tags 01\n",
    "# (π, 0) - Oracle tags 10\n",
    "# (π, π) - Oracle tags 00\n",
    "\n",
    "tags = [\n",
    "    (0, 0), \n",
    "    (0, -np.pi), \n",
    "    (-np.pi, 0), \n",
    "    (-np.pi, -np.pi)\n",
    "]\n",
    "\n",
    "# Bind parameters to circuits for the four different cases: 11, 01, 10 and 00, respectiely.\n",
    "circuits = [\n",
    "    grover.bind_parameters({alpha: alpha_val, beta: beta_val}) for alpha_val, beta_val in tags\n",
    "]\n",
    "\n",
    "# run circuit 1024 times on the simulator to accumulate a probability distribution of the 1024 measurement outcomes\n",
    "grover_result = execute(circuits, backend=backend, shots=1024).result()"
   ]
  },
  {
   "cell_type": "code",
   "execution_count": 307,
   "metadata": {},
   "outputs": [
    {
     "data": {
      "image/png": "[encoded data removed]",
      "text/plain": [
       "<Figure size 504x360 with 1 Axes>"
      ]
     },
     "execution_count": 307,
     "metadata": {},
     "output_type": "execute_result"
    }
   ],
   "source": [
    "# plot a histogram of the measurement outcomes\n",
    "plot_histogram(grover_result.get_counts(0))"
   ]
  },
  {
   "cell_type": "code",
   "execution_count": 308,
   "metadata": {},
   "outputs": [
    {
     "data": {
      "image/png": "[encoded data removed]",
      "text/plain": [
       "<Figure size 504x360 with 1 Axes>"
      ]
     },
     "execution_count": 308,
     "metadata": {},
     "output_type": "execute_result"
    }
   ],
   "source": [
    "# plot a histogram of the measurement outcomes\n",
    "plot_histogram(grover_result.get_counts(1))"
   ]
  },
  {
   "cell_type": "code",
   "execution_count": 309,
   "metadata": {},
   "outputs": [
    {
     "data": {
      "image/png": "[encoded data removed]",
      "text/plain": [
       "<Figure size 504x360 with 1 Axes>"
      ]
     },
     "execution_count": 309,
     "metadata": {},
     "output_type": "execute_result"
    }
   ],
   "source": [
    "# plot a histogram of the measurement outcomes\n",
    "plot_histogram(grover_result.get_counts(2))"
   ]
  },
  {
   "cell_type": "code",
   "execution_count": 310,
   "metadata": {},
   "outputs": [
    {
     "data": {
      "image/png": "[encoded data removed]",
      "text/plain": [
       "<Figure size 504x360 with 1 Axes>"
      ]
     },
     "execution_count": 310,
     "metadata": {},
     "output_type": "execute_result"
    }
   ],
   "source": [
    "# plot a histogram of the measurement outcomes\n",
    "plot_histogram(grover_result.get_counts(3))"
   ]
  },
  {
   "cell_type": "markdown",
   "metadata": {},
   "source": [
    "We see that in each case, the tagged element in our search space is remarkably found hundred percent of time! And this was achieved in only a single iteration of Grover's algorithm, in comparison to the classical solution, where on average we would had to make two guesses and in the worst case scenario, we would have had to make four guesses! More generally, Grover's algorithm takes $O(\\sqrt{N})$ Grover iterations (and thus oracle calls) must be performed in order to obtain a solution to the search problem with a high probability, a quadratic improvement over the $O(N)$ oracle calls required classically. A quadratic speed up!"
   ]
  },
  {
   "cell_type": "markdown",
   "metadata": {},
   "source": [
    "### Run Grover's algorithm on  noisy simulation"
   ]
  },
  {
   "cell_type": "markdown",
   "metadata": {},
   "source": [
    "In reality, real devices do not operate under ideal conditions, and various sources of noise, for example thermal fluctuations, in the surrounding environment introduce errors to a quantum computation, in such way, that the meausurement outcomes we observe deviate from what we ideally expect. In the case where this is severe enough, we cannot reliably run a quantum computation and hope to extract meaningful results. To simulate a noisy device, we can also use `Aer` to simulate the noise models of actual devices."
   ]
  },
  {
   "cell_type": "code",
   "execution_count": 311,
   "metadata": {},
   "outputs": [
    {
     "name": "stderr",
     "output_type": "stream",
     "text": [
      "ibmqfactory.load_account:WARNING:2022-10-04 21:29:35,995: Credentials are already in use. The existing account in the session will be replaced.\n"
     ]
    }
   ],
   "source": [
    "# import aer noise model\n",
    "from qiskit.providers.aer.noise import NoiseModel\n",
    "\n",
    "# IBM Q\n",
    "from qiskit import IBMQ\n",
    " \n",
    "# load provider\n",
    "provider = IBMQ.load_account()\n",
    "\n",
    "# get real backend \n",
    "real_backend = provider.get_backend('ibmq_manila')\n",
    "\n",
    "# Build noise model from its backend properties\n",
    "noise_model = NoiseModel.from_backend(real_backend)"
   ]
  },
  {
   "cell_type": "code",
   "execution_count": 312,
   "metadata": {},
   "outputs": [],
   "source": [
    "# execute the grover circuits on the noisy simulator\n",
    "noisy_grover_result = execute(circuits, backend=backend, shots=1024, noise_model=noise_model).result()"
   ]
  },
  {
   "cell_type": "code",
   "execution_count": 313,
   "metadata": {},
   "outputs": [
    {
     "data": {
      "image/png": "[encoded data removed]",
      "text/plain": [
       "<Figure size 504x360 with 1 Axes>"
      ]
     },
     "execution_count": 313,
     "metadata": {},
     "output_type": "execute_result"
    }
   ],
   "source": [
    "# plot a histogram of the measurement outcomes\n",
    "plot_histogram(noisy_grover_result.get_counts(0))"
   ]
  },
  {
   "cell_type": "code",
   "execution_count": 314,
   "metadata": {},
   "outputs": [
    {
     "data": {
      "image/png": "[encoded data removed]",
      "text/plain": [
       "<Figure size 504x360 with 1 Axes>"
      ]
     },
     "execution_count": 314,
     "metadata": {},
     "output_type": "execute_result"
    }
   ],
   "source": [
    "# plot a histogram of the measurement outcomes\n",
    "plot_histogram(noisy_grover_result.get_counts(1))"
   ]
  },
  {
   "cell_type": "code",
   "execution_count": 315,
   "metadata": {},
   "outputs": [
    {
     "data": {
      "image/png": "[encoded data removed]",
      "text/plain": [
       "<Figure size 504x360 with 1 Axes>"
      ]
     },
     "execution_count": 315,
     "metadata": {},
     "output_type": "execute_result"
    }
   ],
   "source": [
    "## plot a histogram of the measurement outcomes\n",
    "plot_histogram(noisy_grover_result.get_counts(2))"
   ]
  },
  {
   "cell_type": "code",
   "execution_count": 316,
   "metadata": {},
   "outputs": [
    {
     "data": {
      "image/png": "[encoded data removed]",
      "text/plain": [
       "<Figure size 504x360 with 1 Axes>"
      ]
     },
     "execution_count": 316,
     "metadata": {},
     "output_type": "execute_result"
    }
   ],
   "source": [
    "## plot a histogram of the measurement outcomes\n",
    "plot_histogram(noisy_grover_result.get_counts(3))"
   ]
  },
  {
   "cell_type": "markdown",
   "metadata": {},
   "source": [
    "Even in the presence noise, in each scenario, we still recover the tagged element with a high probability!"
   ]
  },
  {
   "cell_type": "markdown",
   "metadata": {},
   "source": [
    "## References"
   ]
  },
  {
   "cell_type": "markdown",
   "metadata": {},
   "source": [
    "[0] Qiskit, 'Start learning in the way best for you', https://qiskit.org/learn/ \n",
    "\n",
    "[1] D. Deutsch, 'Quantum theory, the Church-Turing principle and the universal quantum computer', _Proceedings of the Royal Society of London_ **A 400**, pp. 97-117 (1985).  https://doi.org/10.1098/rspa.1985.0070\n",
    "\n",
    "[2] R. P. Feynman, 'Simulating physics with computers',  _Int J Theor Phys_ **21**, 467–488 (1982). https://doi.org/10.1007/BF02650179\n",
    "\n",
    "[3] L. K. Grover, 'A fast quantum mechanical algorithm for database search', _Proceedings of the 28th Annual ACM Symposium on the Theory of Computing_ (1996), https://doi:10.1145/237814.237866"
   ]
  },
  {
   "cell_type": "code",
   "execution_count": 317,
   "metadata": {},
   "outputs": [
    {
     "data": {
      "text/html": [
       "<h3>Version Information</h3><table><tr><th>Qiskit Software</th><th>Version</th></tr><tr><td><code>qiskit-terra</code></td><td>0.20.2</td></tr><tr><td><code>qiskit-aer</code></td><td>0.10.4</td></tr><tr><td><code>qiskit-ignis</code></td><td>0.7.1</td></tr><tr><td><code>qiskit-ibmq-provider</code></td><td>0.19.1</td></tr><tr><td><code>qiskit</code></td><td>0.36.2</td></tr><tr><th>System information</th></tr><tr><td>Python version</td><td>3.8.12</td></tr><tr><td>Python compiler</td><td>Clang 13.0.0 (clang-1300.0.29.30)</td></tr><tr><td>Python build</td><td>default, Apr 29 2022 12:01:25</td></tr><tr><td>OS</td><td>Darwin</td></tr><tr><td>CPUs</td><td>4</td></tr><tr><td>Memory (Gb)</td><td>32.0</td></tr><tr><td colspan='2'>Tue Oct 04 21:30:19 2022 SAST</td></tr></table>"
      ],
      "text/plain": [
       "<IPython.core.display.HTML object>"
      ]
     },
     "metadata": {},
     "output_type": "display_data"
    },
    {
     "data": {
      "text/html": [
       "<div style='width: 100%; background-color:#d5d9e0;padding-left: 10px; padding-bottom: 10px; padding-right: 10px; padding-top: 5px'><h3>This code is a part of Qiskit</h3><p>&copy; Copyright IBM 2017, 2022.</p><p>This code is licensed under the Apache License, Version 2.0. You may<br>obtain a copy of this license in the LICENSE.txt file in the root directory<br> of this source tree or at http://www.apache.org/licenses/LICENSE-2.0.<p>Any modifications or derivative works of this code must retain this<br>copyright notice, and modified files need to carry a notice indicating<br>that they have been altered from the originals.</p></div>"
      ],
      "text/plain": [
       "<IPython.core.display.HTML object>"
      ]
     },
     "metadata": {},
     "output_type": "display_data"
    }
   ],
   "source": [
    "import qiskit.tools.jupyter\n",
    "\n",
    "%qiskit_version_table\n",
    "%qiskit_copyright"
   ]
  },
  {
   "cell_type": "code",
   "execution_count": null,
   "metadata": {},
   "outputs": [],
   "source": []
  }
 ],
 "metadata": {
  "kernelspec": {
   "display_name": "Python 3 (ipykernel)",
   "language": "python",
   "name": "python3"
  },
  "language_info": {
   "codemirror_mode": {
    "name": "ipython",
    "version": 3
   },
   "file_extension": ".py",
   "mimetype": "text/x-python",
   "name": "python",
   "nbconvert_exporter": "python",
   "pygments_lexer": "ipython3",
   "version": "3.8.12"
  },
  "toc": {
   "base_numbering": 1,
   "nav_menu": {},
   "number_sections": true,
   "sideBar": true,
   "skip_h1_title": false,
   "title_cell": "Table of Contents",
   "title_sidebar": "Contents",
   "toc_cell": false,
   "toc_position": {
    "height": "calc(100% - 180px)",
    "left": "10px",
    "top": "150px",
    "width": "195px"
   },
   "toc_section_display": true,
   "toc_window_display": true
  },
  "varInspector": {
   "cols": {
    "lenName": 16,
    "lenType": 16,
    "lenVar": 40
   },
   "kernels_config": {
    "python": {
     "delete_cmd_postfix": "",
     "delete_cmd_prefix": "del ",
     "library": "var_list.py",
     "varRefreshCmd": "print(var_dic_list())"
    },
    "r": {
     "delete_cmd_postfix": ") ",
     "delete_cmd_prefix": "rm(",
     "library": "var_list.r",
     "varRefreshCmd": "cat(var_dic_list()) "
    }
   },
   "oldHeight": 676.85,
   "position": {
    "height": "698.85px",
    "left": "2014px",
    "right": "20px",
    "top": "158px",
    "width": "477px"
   },
   "types_to_exclude": [
    "module",
    "function",
    "builtin_function_or_method",
    "instance",
    "_Feature"
   ],
   "varInspector_section_display": "block",
   "window_display": false
  },
  "widgets": {
   "application/vnd.jupyter.widget-state+json": {
    "state": {
     "0e3cf700fe4a4d848489887d8cb51e7a": {
      "model_module": "@jupyter-widgets/base",
      "model_module_version": "1.2.0",
      "model_name": "LayoutModel",
      "state": {
       "grid_template_areas": "\n                                       \". . . . right \"\n                                        ",
       "grid_template_columns": "20% 20% 20% 20% 20%",
       "width": "100%"
      }
     },
     "23d5cb4039f44cec818b242c25936918": {
      "model_module": "@jupyter-widgets/base",
      "model_module_version": "1.2.0",
      "model_name": "LayoutModel",
      "state": {
       "grid_area": "right",
       "padding": "0px 0px 0px 0px",
       "width": "70px"
      }
     },
     "37cf8728b6b041079e897ced40406c4b": {
      "model_module": "@jupyter-widgets/controls",
      "model_module_version": "1.5.0",
      "model_name": "GridBoxModel",
      "state": {
       "children": [
        "IPY_MODEL_eea5246b93144bf686f9457d65ee18ad"
       ],
       "layout": "IPY_MODEL_0e3cf700fe4a4d848489887d8cb51e7a"
      }
     },
     "438cfe8001ae49e799f7bf46f9031e27": {
      "model_module": "@jupyter-widgets/base",
      "model_module_version": "1.2.0",
      "model_name": "LayoutModel",
      "state": {}
     },
     "51e279c1759542a19adcacda82be1972": {
      "model_module": "@jupyter-widgets/controls",
      "model_module_version": "1.5.0",
      "model_name": "DescriptionStyleModel",
      "state": {
       "description_width": ""
      }
     },
     "53196a0afb12416abcc6651d07a4564e": {
      "model_module": "@jupyter-widgets/base",
      "model_module_version": "1.2.0",
      "model_name": "LayoutModel",
      "state": {
       "width": "190px"
      }
     },
     "5b58558c50ca42888f50421de08437ac": {
      "model_module": "@jupyter-widgets/controls",
      "model_module_version": "1.5.0",
      "model_name": "HTMLModel",
      "state": {
       "layout": "IPY_MODEL_438cfe8001ae49e799f7bf46f9031e27",
       "style": "IPY_MODEL_9dd930585032474495d021ca7c8d1a5b",
       "value": "<h5>Message</h5>"
      }
     },
     "5c65d63486474e848173c5ec3eda6e70": {
      "model_module": "@jupyter-widgets/controls",
      "model_module_version": "1.5.0",
      "model_name": "HTMLModel",
      "state": {
       "layout": "IPY_MODEL_d22f899da10b407f997d2ad04f6c61e8",
       "style": "IPY_MODEL_6fa54c949d994562bf969d7999d764f6",
       "value": "<h5>Backend</h5>"
      }
     },
     "6fa54c949d994562bf969d7999d764f6": {
      "model_module": "@jupyter-widgets/controls",
      "model_module_version": "1.5.0",
      "model_name": "DescriptionStyleModel",
      "state": {
       "description_width": ""
      }
     },
     "6fb2edaa3aba4bf98bebf3590d888871": {
      "model_module": "@jupyter-widgets/base",
      "model_module_version": "1.2.0",
      "model_name": "LayoutModel",
      "state": {
       "margin": "0px 0px 0px 37px",
       "width": "600px"
      }
     },
     "7487b8b13b7b416ab32588818c7a9fec": {
      "model_module": "@jupyter-widgets/controls",
      "model_module_version": "1.5.0",
      "model_name": "DescriptionStyleModel",
      "state": {
       "description_width": ""
      }
     },
     "77913006574642bfaf74bf268a342b5a": {
      "model_module": "@jupyter-widgets/base",
      "model_module_version": "1.2.0",
      "model_name": "LayoutModel",
      "state": {
       "margin": "0px 0px 10px 0px"
      }
     },
     "7af2bb16e70b4e0390af879f335fbb8c": {
      "model_module": "@jupyter-widgets/controls",
      "model_module_version": "1.5.0",
      "model_name": "HTMLModel",
      "state": {
       "layout": "IPY_MODEL_f2adc0f1950f497c9fbc3412907410db",
       "style": "IPY_MODEL_b760fb32a7944c1b8f9ab4b96fd71823",
       "value": "<h5>Status</h5>"
      }
     },
     "9dd930585032474495d021ca7c8d1a5b": {
      "model_module": "@jupyter-widgets/controls",
      "model_module_version": "1.5.0",
      "model_name": "DescriptionStyleModel",
      "state": {
       "description_width": ""
      }
     },
     "a897582bc61f427ebc953973eb589433": {
      "model_module": "@jupyter-widgets/controls",
      "model_module_version": "1.5.0",
      "model_name": "DescriptionStyleModel",
      "state": {
       "description_width": ""
      }
     },
     "b760fb32a7944c1b8f9ab4b96fd71823": {
      "model_module": "@jupyter-widgets/controls",
      "model_module_version": "1.5.0",
      "model_name": "DescriptionStyleModel",
      "state": {
       "description_width": ""
      }
     },
     "cbf7da19b46c4ddebef7281039e8b696": {
      "model_module": "@jupyter-widgets/controls",
      "model_module_version": "1.5.0",
      "model_name": "ButtonStyleModel",
      "state": {}
     },
     "d186802f578244cc8f8665340a2922da": {
      "model_module": "@jupyter-widgets/controls",
      "model_module_version": "1.5.0",
      "model_name": "HTMLModel",
      "state": {
       "layout": "IPY_MODEL_77913006574642bfaf74bf268a342b5a",
       "style": "IPY_MODEL_a897582bc61f427ebc953973eb589433",
       "value": "<p style='font-family: IBM Plex Sans, Arial, Helvetica, sans-serif; font-size: 20px; font-weight: medium;'>Circuit Properties</p>"
      }
     },
     "d22f899da10b407f997d2ad04f6c61e8": {
      "model_module": "@jupyter-widgets/base",
      "model_module_version": "1.2.0",
      "model_name": "LayoutModel",
      "state": {
       "width": "145px"
      }
     },
     "de345a54b5a6439ebaa8e2c199872d11": {
      "model_module": "@jupyter-widgets/controls",
      "model_module_version": "1.5.0",
      "model_name": "HBoxModel",
      "state": {
       "children": [
        "IPY_MODEL_e516a438b0a14872990d012fb54fdf02",
        "IPY_MODEL_5c65d63486474e848173c5ec3eda6e70",
        "IPY_MODEL_7af2bb16e70b4e0390af879f335fbb8c",
        "IPY_MODEL_e321856e5dff486f8f1f3b236f175476",
        "IPY_MODEL_5b58558c50ca42888f50421de08437ac"
       ],
       "layout": "IPY_MODEL_6fb2edaa3aba4bf98bebf3590d888871"
      }
     },
     "e321856e5dff486f8f1f3b236f175476": {
      "model_module": "@jupyter-widgets/controls",
      "model_module_version": "1.5.0",
      "model_name": "HTMLModel",
      "state": {
       "layout": "IPY_MODEL_fdb9e4f074024588a6625eb9321bb2ea",
       "style": "IPY_MODEL_51e279c1759542a19adcacda82be1972",
       "value": "<h5>Queue</h5>"
      }
     },
     "e516a438b0a14872990d012fb54fdf02": {
      "model_module": "@jupyter-widgets/controls",
      "model_module_version": "1.5.0",
      "model_name": "HTMLModel",
      "state": {
       "layout": "IPY_MODEL_53196a0afb12416abcc6651d07a4564e",
       "style": "IPY_MODEL_7487b8b13b7b416ab32588818c7a9fec",
       "value": "<h5>Job ID</h5>"
      }
     },
     "eea5246b93144bf686f9457d65ee18ad": {
      "model_module": "@jupyter-widgets/controls",
      "model_module_version": "1.5.0",
      "model_name": "ButtonModel",
      "state": {
       "button_style": "primary",
       "description": "Clear",
       "layout": "IPY_MODEL_23d5cb4039f44cec818b242c25936918",
       "style": "IPY_MODEL_cbf7da19b46c4ddebef7281039e8b696"
      }
     },
     "f2adc0f1950f497c9fbc3412907410db": {
      "model_module": "@jupyter-widgets/base",
      "model_module_version": "1.2.0",
      "model_name": "LayoutModel",
      "state": {
       "width": "95px"
      }
     },
     "fdb9e4f074024588a6625eb9321bb2ea": {
      "model_module": "@jupyter-widgets/base",
      "model_module_version": "1.2.0",
      "model_name": "LayoutModel",
      "state": {
       "width": "70px"
      }
     }
    },
    "version_major": 2,
    "version_minor": 0
   }
  }
 },
 "nbformat": 4,
 "nbformat_minor": 4
}
