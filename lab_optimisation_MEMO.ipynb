{
 "cells": [
  {
   "cell_type": "markdown",
   "metadata": {
    "tags": []
   },
   "source": [
    "<h2>SAIIE Conference: An Introduction to Quantum Computing for Industrial Engineers</h2>\n",
    "<p style=\"font-size:xx-large;\">Crop-Yield Optimisation</p>\n",
    "<p style=\"font-size:large;\">Developed from the IBM Quantum Challenge Africa 2021</p>\n",
    "<hr>\n",
    "Quantum Computing has the potential to revolutionise computing, as it can solve problems that are not possible to solve on a classical computer. This extra ability that quantum computers have is called quantum advantage. To achieve this goal, the world needs passionate and competent end-users: those who know how to apply the technology to their field.\n",
    "\n",
    "In this workshop you will be exposed, at a high-level, to quantum computing through Qiskit. As current or future users of quantum computers, you need to know what problems are appropriate for quantum computation, how to structure the problem model/inputs so that they are compatible with your chosen algorithm, and how to execute a given algorithm and quantum solution to solve the problem.\n",
    "\n",
    "This workshop material is based off the Lab 1 notebook from the IBM Quantum Challenge Africa 2021."
   ]
  },
  {
   "cell_type": "markdown",
   "metadata": {},
   "source": [
    "## Table of Contents\n",
    "The notebook is structured as follows:\n",
    "1. Initialisation\n",
    "2. Qiskit and its Parts\n",
    "3. Quadratic Problems\n",
    "4. Crop-Yield Problem as a Quadratic Problem\n",
    "5. Solving the Crop-Yield Problem \n",
    "6. Simulating a Real Quantum Computer for the Crop-Yield Problem\n",
    "7. Using Real Quantum Hardware to Solve the Problem\n"
   ]
  },
  {
   "cell_type": "markdown",
   "metadata": {},
   "source": [
    "## 1. Initialisation\n",
    "To ensure the demonstrations and exercises have the required Python modules and libraries, run the following cell before continuing."
   ]
  },
  {
   "cell_type": "code",
   "execution_count": null,
   "metadata": {},
   "outputs": [],
   "source": [
    "# Import auxiliary libraries\n",
    "import numpy as np\n",
    "\n",
    "# Import Qiskit\n",
    "from qiskit import IBMQ, Aer\n",
    "from qiskit.algorithms import QAOA, VQE, NumPyMinimumEigensolver\n",
    "from qiskit.algorithms.optimizers import COBYLA\n",
    "from qiskit.utils import QuantumInstance, algorithm_globals\n",
    "from qiskit.providers.aer.noise.noise_model import NoiseModel\n",
    "\n",
    "from qiskit_optimization import QuadraticProgram\n",
    "from qiskit_optimization.algorithms import MinimumEigenOptimizer\n",
    "from qiskit_optimization.converters import QuadraticProgramToQubo\n",
    "\n",
    "import qiskit.test.mock as Fake"
   ]
  },
  {
   "cell_type": "markdown",
   "metadata": {},
   "source": [
    "## 2. Qiskit and its Parts\n",
    "<center><img src=\"assets/qiskit_architecture.svg\" width=700px/></center>\n",
    "Qiskit is divided into multiple modules for different purposes, with Terra at the core of the Qiskit ecosystem. It helps to be familiar with what each module can do and whether you will need to utilise the software contained within them for your specific problem. There are four modules that deal with the application of quantum computing; with tools and algorithms built specifically for their fields.\n",
    "\n",
    "Have a quick look at the [Qiskit documentation](https://qiskit.org/overview) and this Qiskit Medium [blog post](https://medium.com/qiskit/what-is-qiskit-your-guide-to-navigating-the-qiskit-cosmos-in-2022-7cc415426f31) to see what these modules are called and get an incredible overview of the Qiskit ecosystem. \n",
    "\n",
    "If you are interested in contributing to the open-source Qiskit community, have a look at the [contribution guide](https://qiskit.org/documentation/contributing_to_qiskit.html).\n",
    "\n",
    "\n",
    "### Qiskit Applications Modules\n",
    "In this notebook, we will use the `Qiskit Optimization` applications module for a specific problem to illustrate how\n",
    "\n",
    "1. classical and mathematical problem definitions are represented in Qiskit,\n",
    "2. some quantum algorithms are defined,\n",
    "3. to execute a quantum algorithm for a given problem definition,\n",
    "4. and algorithms and Qiskit problems are executed on real and simulated quantum computers.\n",
    "\n",
    "We will also be using Qiskit Terra and Aer as they provide the foundation of Qiskit and high-performance quantum simulators respectively."
   ]
  },
  {
   "cell_type": "markdown",
   "metadata": {},
   "source": [
    "## 3. Quadratic Problems\n",
    "Some computational problems can be formulated into quadratic equations such that the minimum of the quadratic equations is the optimal solution, if any exist. These problems are encountered in finance, agriculture, operations and production management, and economics.\n",
    "\n",
    "Quadratic programming is also used to identify an optimal financial portfolio with minimum risk and optimising the layout of production components in a factory to minimise the travel distance of resources. This notebook focuses on agriculture as it is a relevant application of quantum computing to problems facing the African continent. However, all of these applications share two common characteristics: the system can be modelled as a quadratic equation and the system variables may be constrained, with their values limited to within a given range.\n",
    "\n",
    "---\n",
    "\n",
    "Quadratic problems take on the following structure. Given a vector of $n$ variables $x\\in\\mathbb{R}^n$, the quadratic function to minimize is as follows.\n",
    "\n",
    "$$\n",
    "\\begin{align}\n",
    "\\text{minimize}\\quad & f\\left(x\\right)=\\frac{1}{2}x^\\top{}\\mathbf{Q}x + c^\\top{}x &\\\\\n",
    "\\text{subject to}\\quad & \\mathbf{A}x\\leq{}b&\\\\\n",
    "& x^\\top{}\\mathbf{Q}_ix + c_{i}^\\top{}x\\leq{}r_i,\\quad&\\forall{}i\\in[1,k_q]\\\\\n",
    "& l_i\\leq{}x_i\\leq{}u_i,\\quad&\\forall{}i\\in[1,k_l]\\\\\n",
    "\\end{align}\n",
    "$$\n",
    "\n",
    "$\\mathbf{Q}$, $\\mathbf{Q}_i$, and $\\mathbf{A}$ are $n\\times{}n$ symmetric matrices. $c$ and $c_i$ are $n\\times{}1$ column vectors. $\\mathbf{Q}_i$, $\\mathbf{A}$, $c_i$, $l_i$, and $u_i$ define constraints on the variables in $x$. The quadratic equation at the core of the quadratic problem is found by multiplying out the matrices in the minimisation function. Though '$\\leq{}$' is used in the constraint equations above, any identity relationship may be used for any number of constraints: i.e. \"$<$\", \"$=$\", \"$>$\", \"$\\geq$\", or \"$\\leq$\".\n",
    "\n",
    "A valid solution to the quadratic must satisfy all conditions for the problem. Examples of some constraints are given below. The first two are linear constraints whereas the third example is a quadratic constraint.\n",
    "\n",
    "$$ x_1 + x_4 \\leq{} 10$$\n",
    "\n",
    "$$ x_2 - 3x_6 = 10$$\n",
    "\n",
    "$$x_1x_2 - 4x_3x_4 + x_5 \\leq{} 15 $$\n",
    "\n",
    "Qiskit has Python code that allows you to implement a quadratic problem as a `QuadraticProgram` instance. Though our definition above used matrices to define the coefficients, `QuadraticProgram` allows you to define the objective (function overwhich to minimise) directly. To illustrate how to use `QuadraticProgram`, we will use the following quadratic problem definition, with three integer variables.\n",
    "\n",
    "$$\\begin{align}\n",
    "\\text{minimise}\\quad{} & f(x)=(x_1)^2 + (x_2)^2 - x_1x_2 - 6x_3 \\\\\n",
    "\\text{subject to}\\quad{} & x_1 + x_2 = 2             \\\\\n",
    "                         & x_2x_3 \\geq{} 1           \\\\\n",
    "                         & -2 \\leq{} x_2 \\leq{} 2    \\\\\n",
    "                         & -2 \\leq{} x_3 \\leq{} 4    \\\\\n",
    "\\end{align}$$\n",
    "\n",
    "The figure below shows the constraints on $x_1$ and $x_3$, with some simplifcation. The shaded area denotes valid values for $x_1$ and $x_3$, within which $f(x)$ must be minimised.\n",
    "<center><img src=\"assets/quadratic_example.svg\" width=512px/></center>\n",
    "\n",
    "In the following code, the above quadratic problem is defined as a `QuadraticProgram` instance. Have a look at the [Qiskit documentation for `QuadraticProgram`](https://qiskit.org/documentation/stubs/qiskit.optimization.QuadraticProgram.html), as it can be very useful in helping your understanding of its interface.\n",
    "\n",
    "The quadratic to minimise, called an objective, is implemented using dictionaries. This allows you, the developer, to explicitly define coefficients for specific variables and terms. The keys in the dictionaries are the variable names identifying a term in $f(x)$. For example, `(\"x_1\",\"x_2\")` is for $x_1x_2$. The values for each item are the coefficients for said terms. Terms that are subtracted in $f(x)$ must have a negative coefficient."
   ]
  },
  {
   "cell_type": "code",
   "execution_count": null,
   "metadata": {},
   "outputs": [],
   "source": [
    "quadprog = QuadraticProgram(name=\"example 1\")\n",
    "\n",
    "quadprog.integer_var(name=\"x_1\", lowerbound=0, upperbound=4)\n",
    "quadprog.integer_var(name=\"x_2\", lowerbound=-2, upperbound=2)\n",
    "quadprog.integer_var(name=\"x_3\", lowerbound=-2, upperbound=4)\n",
    "\n",
    "quadprog.minimize(\n",
    "    linear={\"x_3\": -6},\n",
    "    quadratic={(\"x_1\", \"x_1\"): 1, (\"x_2\", \"x_2\"): 1, (\"x_1\", \"x_2\"): -1},\n",
    ")\n",
    "\n",
    "quadprog.linear_constraint(linear={\"x_1\": 1, \"x_2\": 1}, sense=\"=\", rhs=2)\n",
    "quadprog.quadratic_constraint(quadratic={(\"x_2\", \"x_3\"): 1}, sense=\">=\", rhs=1)"
   ]
  },
  {
   "cell_type": "markdown",
   "metadata": {},
   "source": [
    "A `QuadraticProgram` can have three types of variables: binary, integer, and continuous. The Qiskit implementation of the algorithms we are going to use currently only support binary and integer variables. There are other algorithms that allow for the simulation of continuous variables, but they are not covered in this notebook. If you want to know more about them though, have a look at this Qiskit tutorial on [algorithms to solve mixed-variable quadratic problems](https://qiskit.org/documentation/tutorials/optimization/5_admm_optimizer.html).\n",
    "\n",
    "We can visualize the `QuadraticProgram` as an LP string, a portable text-based format used representating the model as a **L**inear **P**rogramming problem."
   ]
  },
  {
   "cell_type": "code",
   "execution_count": null,
   "metadata": {},
   "outputs": [],
   "source": [
    "print(quadprog.export_as_lp_string())"
   ]
  },
  {
   "cell_type": "markdown",
   "metadata": {},
   "source": [
    "Any optimization problem that can be represented as a single second-order equation, in that the greatest exponent of any term is 2, can be transformed into a quadratic problem or program of the form given above. The above example is arbitrary and does not necessarily represent a given real-world problem. The main problem of this notebook focuses on optimizing the yield of a farm, though only the problem definition need be changed to apply this technique to other quadratic problem applications."
   ]
  },
  {
   "cell_type": "markdown",
   "metadata": {
    "tags": []
   },
   "source": [
    "## 4. Crop-Yield Problem as a Quadratic Problem\n",
    "To show how to solve your quadratic program using a quantum computer, we will use two algorithms to solve the crop-yield problem. It is a common need to optimise the crops and management of a farm to reduce risk while increasing profits. One of the big challenges facing Africa and the whole world is how to produce enough food for everyone. The problem here focuses not on profits but on the tonnage of crops harvested. Imagine you have a farm with three hectares of land suitable for farming. You need to choose which crops to plant from a selection of four. Furthermore, you also need to determine how many hectares of each you should lant. The four crops you can plant are wheat, soybeans, maize, and a push-pull crop. The fourth cannot be sold once harvested but it can help increase the yield of the other crops.\n",
    "\n",
    "<table style=\"background-color:#FFFFE0;\">\n",
    "    <tr>\n",
    "        <th>\n",
    "            <img src=\"assets/farm_template.svg\" width=\"384px\"/>\n",
    "        </th>\n",
    "    </tr>\n",
    "    <tr>\n",
    "        <th>\n",
    "            Our beautiful three hectare farm\n",
    "        </th>\n",
    "    </tr>\n",
    "</table>\n",
    "\n",
    "<table>\n",
    "    <tr>\n",
    "        <th>\n",
    "        <img src=\"assets/crop_wheat.svg\" width=\"256px\"/>\n",
    "        </th>\n",
    "        <th>\n",
    "            <img src=\"assets/crop_soybeans.svg\" width=\"256px\"/>\n",
    "        </th>\n",
    "        <th>\n",
    "            <img src=\"assets/crop_maize.svg\" width=\"256px\"/>\n",
    "        </th>\n",
    "        <th>\n",
    "            <img src=\"assets/crop_pushpull.svg\" width=\"256px\"/>\n",
    "        </th>\n",
    "    </tr>\n",
    "    <tr>\n",
    "        <th>\n",
    "            Wheat\n",
    "        </th>\n",
    "        <th>\n",
    "            Soybeans\n",
    "        </th>\n",
    "        <th>\n",
    "            Maize\n",
    "        </th>\n",
    "        <th>\n",
    "            Push-Pull\n",
    "        </th>\n",
    "    </tr>\n",
    "</table>\n",
    "\n",
    "There are three types of farming methods we can use: monocropping, intercropping, and push-pull farming. These are shown below. Monocropping is where only one crop is farmed. This is can make the farm susceptible to disease and pests as the entire yield would be affected. In some instances, growing two different plants nearby each other will increase the yield of both, though sometimes it can decrease the yield. Intercropping is the process where different plants are chosen to _increase_ the yield. Push-Pull crops are pairs of plants that repel pests and attract pests respectively. Integrating them into a larger farm increases the yield of harvested food but with the cost of not necessarily being able to use the harvest of Push-Pull crops as part of the total yield. This is because the Push-Pull crop may not be usable or even edible.\n",
    "\n",
    "<table>\n",
    "    <tr>\n",
    "        <th>\n",
    "        <img src=\"assets/farm_mono.svg\" width=\"256px\"/>\n",
    "        </th>\n",
    "        <th>\n",
    "            <img src=\"assets/farm_intercrop.svg\" width=\"256px\"/>\n",
    "        </th>\n",
    "        <th>\n",
    "            <img src=\"assets/farm_intercrop_pushpull.svg\" width=\"256px\"/>\n",
    "        </th>\n",
    "    </tr>\n",
    "    <tr>\n",
    "        <th>\n",
    "            Monocropping\n",
    "        </th>\n",
    "        <th>\n",
    "            Intercropping\n",
    "        </th>\n",
    "        <th>\n",
    "            Push-Pull farming\n",
    "        </th>\n",
    "    </tr>\n",
    "</table>\n",
    "\n",
    "---\n",
    "Only in certain cases can quadratic programming problems be solved easily using classical problems. In their general sense, they are NP-Hard; a class of problems that is difficult to solve using classical computational methods. In fact, the best classical method to solve these problems involves heuristics, a technique that finds an approximate solution. Quantum Computers have been shown to provide significant speed-up and better scaling for some heuristic problems. The crop-yield problem is a combinatorial problem, in that the solution is a specific combination of input parameters. Though the problem shown here is small enough to solve classically, larger problems become intractable on a classical computer owing to the number of combinations of which to optimize.\n",
    "\n",
    "\n",
    "Solving the above problem using quantum computing involves three components:\n",
    "\n",
    "1. Defining the problem\n",
    "2. Defining the algorithm\n",
    "3. Executing the algorithm on a backend\n",
    "\n",
    "Many problems in Qiskit follow this structure as the algorithm you use can typically be swapped for another without significantly redefining your problem. Execution on different backends is the easiest, as long as the device has sufficient resource. The first component is given below, with the second and third in sections 1.5 and 1.6.\n",
    "\n",
    "### Define the Crop-Yield problem\n",
    "The following problem is defined for you but the `QuadraticProgram` is not implemented. Your task at the end of this section is to implement the `QuadraticProgram` for the given crop-yield model.\n",
    "\n",
    "Your farm has three hectares available, $3~ha$, with each crop taking up $0~ha$ or $1~ha$. We define the yield of the farm as a quadratic function where the influence of each crop on each other is represented by the quadratic coefficients. The variables in this quadratic are the number of hectares of the crop to be planted and the objective function to maximise is the yield of usable crops in tons. Here is the mathematical model for the problem. In this scenario, all crops increase the yield of other crops. However, the problem to solve is which crops to use to achieve the maximum yield.\n",
    "\n",
    "<img src=\"assets/qubo_problem_graphical_variables.svg\" width=\"534px\"/>\n",
    "\n",
    "The farm yield, in tons, is modelled as a quadratic equation, given below, with constraints on the hectares used by each crop and the total hectares available. Each crop is shown using a different symbol, as shown above, representing the number of hectares to be planted of said plant. Note that we can only plant up to 1 hectare of each crop and that our farm is constrained to 3 hectares.\n",
    "\n",
    "<img src=\"assets/qubo_problem_graphical.svg\" width=\"400px\"/>\n",
    "\n",
    "----\n",
    "\n",
    "#### Non-graphical notation\n",
    "Here is a non-graphical representation of the above model, if you are struggling to interpret the above graphic.\n",
    "\n",
    "$$\n",
    "\\begin{align}\n",
    "    \\text{maximize} \\quad & 2(\\operatorname{Wheat}) + \\operatorname{Soybeans} + 4(\\operatorname{Maize}) \\\\\n",
    "    & + 2.4(\\operatorname{Wheat}\\times\\operatorname{Soybeans}) \\\\ & + 4(\\operatorname{Wheat}\\times\\operatorname{Maize})\\\\\n",
    "    &+ 4(\\operatorname{Wheat}\\times\\operatorname{PushPull}) \\\\ & + 2(\\operatorname{Soybeans}\\times\\operatorname{Maize}) \\\\\n",
    "                          & + (\\operatorname{Soybeans}\\times\\operatorname{PushPull}) \\\\ & + 5(\\operatorname{Maize}\\times\\operatorname{PushPull})\n",
    "\\end{align}\n",
    "$$\n",
    "\n",
    "$$\n",
    "\\begin{align}\n",
    "\\text{subject to} \\quad & \\operatorname{Wheat} + \\operatorname{Soybeans} + \\operatorname{Maize} + \\operatorname{PushPull} \\leq{} 3\\\\\n",
    "& 0\\leq{}\\operatorname{Wheat}\\leq{}1\\\\\n",
    "& 0\\leq{}\\operatorname{Soybeans}\\leq{}1\\\\\n",
    "& 0\\leq{}\\operatorname{Maize}\\leq{}1\\\\\n",
    "& 0\\leq{}\\operatorname{PushPull}\\leq{}1\n",
    "\\end{align}\n",
    "$$\n",
    "\n",
    "### Create Quadratic Program from crop-yield variables\n",
    "Your first exercise is to create a `QuadraticProgram` that represents the above model. Write your implementation in cell below. Remember to use the example as a guide, and to look at the [QuadraticProgram documentation](https://qiskit.org/documentation/tutorials/optimization/1_quadratic_program.html?highlight=quadraticprogram) and [Qiskit reference](https://qiskit.org/documentation/stubs/qiskit.optimization.QuadraticProgram.html?highlight=quadraticprogram#qiskit.optimization.QuadraticProgram).\n",
    "\n",
    "**Note:** Name your variables `wheat`, `soybeans`, `maize,` and `pushpull`."
   ]
  },
  {
   "cell_type": "markdown",
   "metadata": {},
   "source": [
    "<div class=\"alert alert-block alert-info\">\n",
    "    <b>Exercise 1</b>\n",
    "</div>\n",
    "Define the crop-yield problem mathematically"
   ]
  },
  {
   "cell_type": "code",
   "execution_count": null,
   "metadata": {},
   "outputs": [],
   "source": [
    "cropyield = QuadraticProgram(name=\"Crop Yield\")\n",
    "##############################\n",
    "# Put your implementation here\n",
    "\n",
    "# define variables\n",
    "cropyield.integer_var(name=\"wheat\", lowerbound=0, upperbound=1)\n",
    "cropyield.integer_var(name=\"soybeans\", lowerbound=0, upperbound=1)\n",
    "cropyield.integer_var(name=\"maize\", lowerbound=0, upperbound=1)\n",
    "cropyield.integer_var(name=\"pushpull\", lowerbound=0, upperbound=1)\n",
    "\n",
    "# define objective function\n",
    "cropyield.maximize(\n",
    "    linear={\"wheat\": 2, \"soybeans\": 1, \"maize\":4},\n",
    "    quadratic={(\"wheat\", \"soybeans\"): 2.4, \n",
    "               (\"wheat\", \"maize\"): 4, \n",
    "               (\"wheat\", \"pushpull\"): 4,\n",
    "               (\"soybeans\", \"maize\"): 2, \n",
    "               (\"soybeans\", \"pushpull\"): 1, \n",
    "               (\"maize\", \"pushpull\"): 5}\n",
    ")\n",
    "\n",
    "# add linear constraint(s)\n",
    "cropyield.linear_constraint(linear={\"wheat\": 1, \"soybeans\": 1, \"maize\": 1, \"pushpull\": 1}, sense=\"<=\", rhs=3)\n",
    "\n",
    "# add non-linear constraint(s)\n",
    "# This problem has no non-linear constraints\n",
    "##############################"
   ]
  },
  {
   "cell_type": "code",
   "execution_count": null,
   "metadata": {},
   "outputs": [],
   "source": [
    "print(cropyield.export_as_lp_string())"
   ]
  },
  {
   "cell_type": "markdown",
   "metadata": {},
   "source": [
    "### Converting Quadratic Programs\n",
    "If we want to estimate how many qubits this quadratic program requires, we can convert it to an Ising Model and print the `num_qubits` parameter. An [ising model](https://qiskit.org/documentation/apidoc/qiskit.optimization.applications.ising.html?highlight=ising) is a special system model type that is well suited for quantum computing. Though we will not be using an ising model explicitly, the algorithms and Qiskit classes we are using do this conversion internally."
   ]
  },
  {
   "cell_type": "markdown",
   "metadata": {},
   "source": [
    "Even though quadratic programs are widely used in Qiskit, the algorithms we are going to use require binary variables. Qiskit provides an automated method for converting our integer variables into binary variables. The binary-only form is called a _Quadratic Unconstrained Binary Optimization_ problem, or `QUBO`. The conversion is done using `QuadraticProgramToQUBO` from the Qiskit Optimization module. Every integer variable, and their associated constraints, are transformed into binary variables.\n",
    "\n",
    "Run the following code to see how the QUBO version of the cropyield problem looks. Notice how the quadratic becomes longer and more variables are added. This is to account for the bits in each variable, including the constraints. When we run our quantum algorithm to solve this `QuadraticProgram`, it is converted to a `QUBO` instance within the Qiskit algorith implementation, implicitly."
   ]
  },
  {
   "cell_type": "code",
   "execution_count": null,
   "metadata": {},
   "outputs": [],
   "source": [
    "print(QuadraticProgramToQubo().convert(cropyield).export_as_lp_string())"
   ]
  },
  {
   "cell_type": "markdown",
   "metadata": {},
   "source": [
    "If we want to estimate how many qubits this quadratic program requires, we can convert it to an Ising Model and print the `num_qubits` parameter. An [ising model](https://qiskit.org/documentation/apidoc/qiskit.optimization.applications.ising.html?highlight=ising) is a special system model type that is well suited for quantum computing. Though we will not be using an ising model explicitly, the algorithms and Qiskit classes we are using do this conversion internally."
   ]
  },
  {
   "cell_type": "code",
   "execution_count": null,
   "metadata": {},
   "outputs": [],
   "source": [
    "# Estimate the number of qubits required\n",
    "ising_operations, _ = (\n",
    "    QuadraticProgramToQubo()\n",
    "    .convert(\n",
    "        cropyield,\n",
    "    )\n",
    "    .to_ising()\n",
    ")\n",
    "print(f\"Number of qubits required is {ising_operations.num_qubits}\")"
   ]
  },
  {
   "cell_type": "markdown",
   "metadata": {
    "tags": []
   },
   "source": [
    "## 5. Solving the Crop-Yield Problem\n",
    "There are three ways to _run_ a quantum algorithm using Qiskit:\n",
    "1. on a simulator locally on your own machine\n",
    "2. on a simulator hosted in the cloud by IBM\n",
    "3. on an actual quantum computer accessible through IBM Quantum.\n",
    "\n",
    "All of these are called backends. In all cases, the _backend_ can easily be swapped for another as long as the simulator or device has appropriate resources (number of qubits etc.). In the code below, we show how to access different backends. We demonstrate this using the local Aer QASM simulator from Qiskit. The Aer QASM simulator models the physical properties of a real quantum computer so you, researchers, and developers can test their quantum computing code and algorithms before running on real devices.\n",
    "\n",
    "We would like to compare our quantum solution to that obtained classically. Secondly, we also want to try different algorithms. The following three subsections show how these different methods for solving the Crop-Yield problem are implemented in Qiskit. The two algorithms used are the [_Quantum Approximate Optimization Algorithm_](https://qiskit.org/documentation/stubs/qiskit.algorithms.QAOA.html?highlight=qaoa#qiskit.algorithms.QAOA) `QAOA` and the [_Variational Quantum Eigensolver_](https://qiskit.org/documentation/stubs/qiskit.algorithms.VQE.html?highlight=vqe#qiskit.algorithms.VQE) `VQE`.\n",
    "\n",
    "Both of these algorithms are hybrid, in that they use a classical _optimizer_ to alter parameters that affect the quantum computation. The VQE algorithm is used to find the lowest eigenvalue of a matrix, which can describe a system to optimize. The QAOA also finds the lowest eigenvalue, but achieves this is a different way to VQE. Both are very popular algorithms, with varying applications and strengths.\n",
    "\n",
    "### Classical Solution\n",
    "The classical solution to the crop-yield problem can easily be found using Numpy and Qiskit. The QUBO problem can be solved by finding the minimum eigenvalue of its underlying matrix representation. Fortunately, we don't have to know what this matrix looks like. We only need to pass it to a `MinimumEigensolver` and `MinimumEigenOptimizer`.\n",
    "\n",
    "The optimizer translates the provided problem into a parameterised representation which is then passed to the solver. By optimizing the paramters, the solver will eventually give the minimum eigenvalue for the parameterized representation and thus the solution to the original problem. Here we use a classical solver from NumPy, the `NumPyMinimumEigensolver`."
   ]
  },
  {
   "cell_type": "markdown",
   "metadata": {},
   "source": [
    "<div class=\"alert alert-block alert-info\">\n",
    "    <b>Exercise 2a</b>\n",
    "</div>\n",
    "Set up the classical solver."
   ]
  },
  {
   "cell_type": "code",
   "execution_count": null,
   "metadata": {},
   "outputs": [],
   "source": [
    "# Create classical solver\n",
    "solver = NumPyMinimumEigensolver()\n",
    "\n",
    "# Create optimizer for solver\n",
    "optimizer = MinimumEigenOptimizer(solver)\n"
   ]
  },
  {
   "cell_type": "markdown",
   "metadata": {},
   "source": [
    "<div class=\"alert alert-block alert-info\">\n",
    "<b>Exercise 2b</b>\n",
    "</div>\n",
    "If we execute the classical method for our crop-yield problem, we get a valid solution that maximises the yield."
   ]
  },
  {
   "cell_type": "code",
   "execution_count": null,
   "metadata": {},
   "outputs": [],
   "source": [
    "# Get classical result\n",
    "classical_result = optimizer.solve(cropyield)\n",
    "\n",
    "# Format and print result\n",
    "print(\"Solution found using the classical method:\\n\")\n",
    "print(f\"Maximum crop-yield is {classical_result.fval} tons\")\n",
    "print(f\"Crops used are: \")\n",
    "\n",
    "_crops = [v.name for v in cropyield.variables]\n",
    "for cropIndex, cropHectares in enumerate(classical_result.x):\n",
    "    print(f\"\\t{cropHectares} ha of {_crops[cropIndex]}\")\n",
    "    "
   ]
  },
  {
   "cell_type": "markdown",
   "metadata": {},
   "source": [
    "<div class=\"alert alert-block alert-info\">\n",
    "<b>Exercise 3</b>\n",
    "</div>\n",
    "Setup your first quantum backend (simulator)"
   ]
  },
  {
   "cell_type": "code",
   "execution_count": null,
   "metadata": {},
   "outputs": [],
   "source": [
    "# We will use the Aer provided QASM simulator\n",
    "backend = Aer.get_backend(\"qasm_simulator\")\n",
    "\n",
    "# Given we are using a simulator, we will fix the algorithm seed to ensure our results are reproducible\n",
    "algorithm_globals.random_seed = 271828\n"
   ]
  },
  {
   "cell_type": "markdown",
   "metadata": {},
   "source": [
    "### QAOA Solution\n",
    "To solve our problem using QAOA, we need only replace the classical_solver with a `QAOA` class instance. Now that we are running a quantum algorithm, we need to tell the solver where to execute the quantum component. We use a `QuantumInstance` to store the backend information. The QAOA is an iterative algorithm, and thus is run multiple times with different internal parameters. The parameters are tuned classically during the optimization step of the computation by `optimizer`. If we leave `optimizer` as `None`, our algorithms will use the default optimization algorithm. To determine how many iterations there are, we define a callback function that runs for each iteration and stores the number of evaluations thus far. At the end of our algorithm execution, we return the result and the number of iterations.\n",
    "\n",
    "If we execute the QAOA method for our crop-yield problem, we get the same result as the classical method, showing that 1) the quantum solution is correct and 2) that you now know how to use a quantum algorithm! 🌟"
   ]
  },
  {
   "cell_type": "markdown",
   "metadata": {},
   "source": [
    "<div class=\"alert alert-block alert-info\">\n",
    "<b>Exercise 4a</b>\n",
    "</div>\n",
    "Use an Aer QASM simulator and setup the QAOA method for our crop-yield problem."
   ]
  },
  {
   "cell_type": "code",
   "execution_count": null,
   "metadata": {},
   "outputs": [],
   "source": [
    "# Create a QuantumInstance\n",
    "simulator_instance = QuantumInstance(\n",
    "    backend = backend,\n",
    "    seed_simulator = algorithm_globals.random_seed,\n",
    "    seed_transpiler = algorithm_globals.random_seed,\n",
    ")\n",
    "\n",
    "# Create quantum solver\n",
    "solver = QAOA(\n",
    "    optimizer = None, \n",
    "    quantum_instance = simulator_instance\n",
    ")\n",
    "\n",
    "# Create optimizer for solver\n",
    "optimizer = MinimumEigenOptimizer(solver)\n"
   ]
  },
  {
   "cell_type": "markdown",
   "metadata": {},
   "source": [
    "<div class=\"alert alert-block alert-info\">\n",
    "<b>Exercise 4b</b>\n",
    "</div>\n",
    "If we execute the QAOA method for our crop-yield problem, we should get a valid solution that maximises the yield (and is identical to the classical solution)."
   ]
  },
  {
   "cell_type": "code",
   "execution_count": null,
   "metadata": {},
   "outputs": [],
   "source": [
    "# Get the result from optimizer\n",
    "qaoa_result = optimizer.solve(cropyield)\n",
    "\n",
    "# Format and print result\n",
    "print(\"Solution found using the QAOA method:\\n\")\n",
    "print(f\"Maximum crop-yield is {qaoa_result.fval} tons\")\n",
    "print(f\"Crops used are: \")\n",
    "for cropHectares, cropName in zip(qaoa_result.x, qaoa_result.variable_names):\n",
    "    print(f\"\\t{cropHectares} ha of {cropName}\")\n"
   ]
  },
  {
   "cell_type": "markdown",
   "metadata": {},
   "source": [
    "### VQE Solution\n",
    "The `VQE` algorithm works in a very similar way to the `QAOA`. Not only in a mathematical modelling and algorithmic perspective, but also programmatically. There is a quantum solver and a classical optimizer. The `VQE` instance is also iterative, and so we can measure how many iterations are needed to find a solution to the Crop-Yield problem."
   ]
  },
  {
   "cell_type": "markdown",
   "metadata": {},
   "source": [
    "<div class=\"alert alert-block alert-info\">\n",
    "<b>Exercise 5a</b>\n",
    "</div>\n",
    "We will setup the VQE method for our crop-yield problem as a function as we'll be reusing this for the remaining backends."
   ]
  },
  {
   "cell_type": "code",
   "execution_count": null,
   "metadata": {},
   "outputs": [],
   "source": [
    "def get_VQE_solution_for(\n",
    "    quadprog: QuadraticProgram, quantumInstance: QuantumInstance, optimizer=None,\n",
    "):\n",
    "    _eval_count = 0\n",
    "\n",
    "    def callback(eval_count, parameters, mean, std):\n",
    "        nonlocal _eval_count\n",
    "        _eval_count = eval_count\n",
    "\n",
    "    # Create solver and optimizer\n",
    "    solver = VQE(\n",
    "        optimizer=optimizer, quantum_instance=quantumInstance, callback=callback\n",
    "    )\n",
    "\n",
    "    # Create optimizer for solver\n",
    "    optimizer = MinimumEigenOptimizer(solver)\n",
    "\n",
    "    # Get result from optimizer\n",
    "    result = optimizer.solve(quadprog)\n",
    "    return result, _eval_count"
   ]
  },
  {
   "cell_type": "markdown",
   "metadata": {},
   "source": [
    "<div class=\"alert alert-block alert-info\">\n",
    "<b>Exercise 5b</b>\n",
    "</div>\n",
    "And we should get the exact same answer as in the classical solution and the QAOA solution."
   ]
  },
  {
   "cell_type": "code",
   "execution_count": null,
   "metadata": {},
   "outputs": [],
   "source": [
    "# Get result from optimizer\n",
    "vqe_result, vqe_eval_count = get_VQE_solution_for(cropyield, simulator_instance)\n",
    "\n",
    "# Format and print result\n",
    "print(\"Solution found using the VQE method:\\n\")\n",
    "print(f\"Maximum crop-yield is {vqe_result.fval} tons\")\n",
    "print(f\"Crops used are: \")\n",
    "for cropHectares, cropName in zip(vqe_result.x, vqe_result.variable_names):\n",
    "    print(f\"\\t{cropHectares} ha of {cropName}\")\n",
    "\n",
    "print(f\"\\nThe solution was found within {vqe_eval_count} evaluations of VQE\")"
   ]
  },
  {
   "cell_type": "markdown",
   "metadata": {},
   "source": [
    "### Classical and Quantum Computational Results\n",
    "The maximum yield values should be the same. If your yield values aren't all the same, rerun the algorithms. Sometimes the optimization process can miss the correct answer because of the randomness used to initialize the algorithm parameters.\n",
    "\n",
    "_You could always verify your result with the classical method, though this is only possible here given the size of the problem. Larger problems become more difficult to verify._\n",
    "\n",
    "## 6. Simulating a Real Quantum Computer for the Crop-Yield Problem\n",
    "\n",
    "Sometimes one would want to _simulate_ a real quantum computer to see how the actual hardware may impact the performance of the algorithm. All quantum computers have an underlying architecture, different noise characeristics, and error rates. These three aspects impact how well the algorithm can perform on a given deivce. To test the impact a given quantum computer has on the QAOA instance, we can utilize a _fake_ instance of the device in Qiskit to tell our simulator what parameters to use. In this example we will be simulating `ibmq_johannesburg`."
   ]
  },
  {
   "cell_type": "code",
   "execution_count": null,
   "metadata": {},
   "outputs": [],
   "source": [
    "from qiskit.providers.fake_provider import FakeJohannesburg\n",
    "\n",
    "# Get a fake backend from the fake provider\n",
    "fake_device = FakeJohannesburg()"
   ]
  },
  {
   "cell_type": "markdown",
   "metadata": {},
   "source": [
    "We can inspect what this device _looks_ like using the Qiskit Jupyter tools, shown below. You do not need to know about this structure to execute quantum programs on a device, but it is useful to visualize the parameters."
   ]
  },
  {
   "cell_type": "code",
   "execution_count": null,
   "metadata": {},
   "outputs": [],
   "source": [
    "from qiskit.tools.jupyter import *\n",
    "\n",
    "fake_device"
   ]
  },
  {
   "cell_type": "markdown",
   "metadata": {},
   "source": [
    "The three aforementioned components of a quantum computer are represented as a noise model, coupling map, and the basis gate set. The noise model is a representation of how the noise and errors in the computer behave. The coupling map and basis gate set are core to the architecture of the device. The coupling map represents how the physical qubits can interact whereas the basis gate set is analogous to the set of fundamental computatonal instructions we can use. You can see the coupling map in the above widget as the lines connecting each qubit in the architecture diagram.\n",
    "\n",
    "To simulate `ibmq_johannesburg`, we must pass these three components to our Aer simulator."
   ]
  },
  {
   "cell_type": "markdown",
   "metadata": {},
   "source": [
    "<div class=\"alert alert-block alert-info\">\n",
    "<b>Exercise 6a</b>\n",
    "</div>\n",
    "Create a new <code>QuantumInstance</code> with these parameters"
   ]
  },
  {
   "cell_type": "code",
   "execution_count": null,
   "metadata": {},
   "outputs": [],
   "source": [
    "from qiskit import Aer, execute\n",
    "\n",
    "fake_instance = QuantumInstance(\n",
    "    backend=fake_device\n",
    ")"
   ]
  },
  {
   "cell_type": "markdown",
   "metadata": {},
   "source": [
    "<div class=\"alert alert-block alert-info\">\n",
    "<b>Exercise 6b</b>\n",
    "</div>\n",
    "Execute <code>QAOA</code> as before but now using this new <i>fake</i> quantum device\n",
    "\n",
    "<div class=\"alert alert-block alert-warning\">\n",
    "The next block of code will take a long time to run.\n",
    "</div>"
   ]
  },
  {
   "cell_type": "code",
   "execution_count": null,
   "metadata": {},
   "outputs": [],
   "source": [
    "vqe_result_fake_inst, vqe_eval_count_fake_inst = get_VQE_solution_for(cropyield, fake_instance)"
   ]
  },
  {
   "cell_type": "code",
   "execution_count": null,
   "metadata": {},
   "outputs": [],
   "source": [
    "# Format and print result\n",
    "print(\"Solution found using the VQE method:\\n\")\n",
    "print(f\"Maximum crop-yield is {vqe_result_fake_inst.fval} tons\")\n",
    "print(f\"Crops used are: \")\n",
    "for cropHectares, cropName in zip(vqe_result_fake_inst.x, vqe_result_fake_inst.variable_names):\n",
    "    print(f\"\\t{cropHectares} ha of {cropName}\")\n",
    "\n",
    "print(f\"\\nThe solution was found within {vqe_eval_count_fake_inst} evaluations of VQE\")\n"
   ]
  },
  {
   "cell_type": "markdown",
   "metadata": {},
   "source": [
    "### Scaling of the Quantum Solution vs Classical\n",
    "When we created our quadratic program for the crop-yield problem, we saw that the Ising Model required 6 qubits. We had constrained our problem such that we could only plant up to 1 hectare per crop. However, we could change the model so that we can plot 3 hectares per crop, upto our maximum available farm area of 3 hectares.\n",
    "\n",
    "How many qubits would this ising model require?\n",
    "\n",
    "---\n",
    "\n",
    "Furthermore, what if we had more land to farm? We know that this problem is NP-Hard and thus classical solutions are mostly found using heuristics. This is the core reason why quantum computers are promising to solve these kinds of problems. But what are the resource requirements for the quantum solution, with a larger farm and crops that can be planted in more hectares?\n",
    "\n",
    "To illustrate this, we've provided a function that returns the number of qubits required by the underlying Ising Model for the Crop-Yield Problem. We then see the estimated number of qubits needed for different problem parameters. Feel free to modify the variables being used to see how the qubit resource requirements change."
   ]
  },
  {
   "cell_type": "code",
   "execution_count": null,
   "metadata": {},
   "outputs": [],
   "source": [
    "# Function to estimate the number of qubits required\n",
    "def estimate_number_of_qubits_required_for(max_hectares_per_crop, hectares_available):\n",
    "    return int(\n",
    "        4 * np.ceil(np.log2(max_hectares_per_crop + 1))\n",
    "        + np.ceil(np.log2(hectares_available + 1))\n",
    "    )"
   ]
  },
  {
   "cell_type": "code",
   "execution_count": null,
   "metadata": {
    "scrolled": true
   },
   "outputs": [],
   "source": [
    "# Our new problem parameters\n",
    "hectares_available = 10\n",
    "max_hectares_per_crop = 5\n",
    "\n",
    "# Retrieving the number of qubits required\n",
    "number_of_qubits_required = estimate_number_of_qubits_required_for(\n",
    "    max_hectares_per_crop=max_hectares_per_crop, hectares_available=hectares_available\n",
    ")\n",
    "\n",
    "print(\n",
    "    f\"Optimizing a {hectares_available} ha farm with each crop taking up to {max_hectares_per_crop} ha each,\",\n",
    "    f\"the computation is estimated to require {number_of_qubits_required} qubits.\",\n",
    ")"
   ]
  },
  {
   "cell_type": "markdown",
   "metadata": {},
   "source": [
    "The number of qubits required is related to the constraints in the quadratic program and how the integer variables are converted to binary variables. In fact, the scaling of the number of qubits, as a function of the hectares available, is logarithmic in nature; owing to this conversion.\n",
    "\n",
    "## 7. Using Real Quantum Hardware to Solve the Problem\n",
    "As we have previously mentioned, IBM Quantum backends are accessed through a provider, which manages the devices to which you have access.\n",
    "\n",
    "Typically, you would find your provider details under your [IBM Quantum account details](https://quantum-computing.ibm.com/account). Under your account you can see the different hubs, groups, and projects of which you are a part. Qiskit allows us to retrieve a provider using just the hub, group, and project as follows:\n",
    "\n",
    "```python\n",
    "provider = IBMQ.get_provider(hub=\"ibm-q\", group=\"open\", project=\"main\")\n",
    "```"
   ]
  },
  {
   "cell_type": "code",
   "execution_count": null,
   "metadata": {},
   "outputs": [],
   "source": [
    "from qiskit import IBMQ\n",
    "\n",
    "# Load account from disk\n",
    "IBMQ.load_account() \n",
    "\n",
    "# List all available providers\n",
    "IBMQ.providers()"
   ]
  },
  {
   "cell_type": "markdown",
   "metadata": {},
   "source": [
    "We can list all backends available through a given provider. In this example, we use the _open_ provider as it has access to all open devices and simulators"
   ]
  },
  {
   "cell_type": "code",
   "execution_count": null,
   "metadata": {},
   "outputs": [],
   "source": [
    "provider = IBMQ.get_provider(hub='ibm-q', group=\"open\", project=\"main\")\n",
    "\n",
    "for _backend in IBMQ.get_provider(hub='ibm-q', group='open', project='main').backends():\n",
    "    print(_backend.name())"
   ]
  },
  {
   "cell_type": "markdown",
   "metadata": {},
   "source": [
    "We can filter this list of backends by simply passing parameters to the ```backend``` function"
   ]
  },
  {
   "cell_type": "code",
   "execution_count": null,
   "metadata": {},
   "outputs": [],
   "source": [
    "for _backend in IBMQ.get_provider(hub='ibm-q', group='open', project='main').backends(simulator=False, \n",
    "                                                                                      operational=True):\n",
    "    print(_backend.name())"
   ]
  },
  {
   "cell_type": "markdown",
   "metadata": {},
   "source": [
    "Of course, working in the _Open_ group means we have limited compute resources being shared across everyone in the world.  So, quickly determining the least busy machine while also taking into account certain requirements, like having a minimum number of qubits, is an important trick to know."
   ]
  },
  {
   "cell_type": "code",
   "execution_count": null,
   "metadata": {},
   "outputs": [],
   "source": [
    "from qiskit.providers.ibmq import least_busy\n",
    "\n",
    "small_devices = provider.backends(filters=lambda x: x.configuration().n_qubits == 7\n",
    "                                   and not x.configuration().simulator)\n",
    "least_busy(small_devices)"
   ]
  },
  {
   "cell_type": "markdown",
   "metadata": {},
   "source": [
    "Qiskit provides visual tools to view backend information in a jupyter notebook. To accomplish this, one needs to import the `jupyter` submodule and call the appropriate _magic comment_. With `qiskit_backend_overview` you can view all devices accessible by the current IBMQ account. Notice how it does not include simulators. Furthermore, you should see that all devices available through the _open group_ have at most 7 qubits. Thus, we should have no problem in solving the crop-yield problem we created earlier, as we showed it requires 6 qubits."
   ]
  },
  {
   "cell_type": "code",
   "execution_count": null,
   "metadata": {},
   "outputs": [],
   "source": [
    "import qiskit.tools.jupyter\n",
    "\n",
    "%qiskit_backend_overview"
   ]
  },
  {
   "cell_type": "markdown",
   "metadata": {},
   "source": [
    "<div class=\"alert alert-block alert-warning\">\n",
    "    \n",
    "If you want access to larger and more sophisticated quantum computers through IBM, see if your university or company is part of the [IBM Quantum Network](https://www.ibm.com/quantum-computing/network/members/). Researchers are institutions that are part of the [African Research Universities Alliance (ARUA)](https://arua.org.za/) can also apply for access through the University of the Witwatersrand, in South Africa; which is a member of the IBM Quantum Network. If you are a researcher, you can also apply for access through the [IBM Quantum Researchers Program](https://www.ibm.com/quantum-computing/researchers-program/). If you're a student at a highschool or university, you can ask your teachers or lecturers to apply for access through the [IBM Quantum Educators Program](https://www.ibm.com/quantum-computing/educators-program/).\n",
    "\n",
    "</div>\n",
    "\n",
    "To retrieve a backend from the provider, one needs only request it by name. For example, we can request `ibm_nairobi` as below and given that we have imported `qiskit.tools.jupyter`, Jupyter will now display a helpful widget when an IBMQ backend is displayed. We do not have to use a _magic comment_ here as the jupyter submodule defines how some variables are displayed in a jupyter notebook."
   ]
  },
  {
   "cell_type": "code",
   "execution_count": null,
   "metadata": {},
   "outputs": [],
   "source": [
    "# request ibm_nairobi\n",
    "backend_real = provider.get_backend(\"ibm_nairobi\")\n",
    "\n",
    "# display backend information\n",
    "backend_real\n"
   ]
  },
  {
   "cell_type": "markdown",
   "metadata": {},
   "source": [
    "<div class=\"alert alert-block alert-info\">\n",
    "<b>Exercise 8a</b>\n",
    "</div>\n",
    "Getting setup to submit a job to a real quantum computer."
   ]
  },
  {
   "cell_type": "code",
   "execution_count": null,
   "metadata": {},
   "outputs": [],
   "source": [
    "quantum_instance_real = QuantumInstance(backend_real, \n",
    "                                        shots=2048)"
   ]
  },
  {
   "cell_type": "markdown",
   "metadata": {},
   "source": [
    "The VQE algorithm and QAOA are iterative, meaning that they incorporate a classical-quantum loop which repeats certain computations, _hopefully_ converging to a valid solution. In each iteration, or evaluation, the quantum backend will execute the quantum operations 2048 times. Each shot is quite fast, so we do not have to worry about a significant increase in processing time by using more shots."
   ]
  },
  {
   "cell_type": "markdown",
   "metadata": {},
   "source": [
    "<div class=\"alert alert-block alert-info\">\n",
    "<b>Exercise 8b</b>\n",
    "</div>\n",
    "Submit a job to a real quantum computer.\n",
    "\n",
    "<div class=\"alert alert-block alert-warning\">\n",
    "<b>Please note that due to the queues, it can take over an hour get a result from the quantum computer.</b>\n",
    "</div>"
   ]
  },
  {
   "cell_type": "code",
   "execution_count": null,
   "metadata": {},
   "outputs": [],
   "source": [
    "# Create our optimizer\n",
    "optimizer = COBYLA(maxiter=1)\n",
    "\n",
    "## Get result from real device with VQE\n",
    "vqe_result_real, vqe_eval_count_real = get_VQE_solution_for(\n",
    "    cropyield, \n",
    "    quantum_instance_real, \n",
    "    optimizer=optimizer\n",
    ")\n"
   ]
  },
  {
   "cell_type": "markdown",
   "metadata": {},
   "source": [
    "Qiskit uses `jobs` to track computations and their results on remote devices and simulators. We can query the backend object for the jobs it received, which would be those created by the VQE algorithm."
   ]
  },
  {
   "cell_type": "code",
   "execution_count": null,
   "metadata": {},
   "outputs": [],
   "source": [
    "# Retrieve the VQE job sent\n",
    "job_real = backend_real.jobs()[0]\n",
    "\n",
    "print(f\"VQE job created at {job_real.creation_date()} and has a job id of {job_real.job_id()}\")"
   ]
  },
  {
   "cell_type": "code",
   "execution_count": null,
   "metadata": {},
   "outputs": [],
   "source": [
    "# Determine job's status\n",
    "job_status = job_real.status()\n",
    "print(job_status)"
   ]
  },
  {
   "cell_type": "code",
   "execution_count": null,
   "metadata": {},
   "outputs": [],
   "source": [
    "# Get a list of all jobs you have sent to the defined backend\n",
    "backend_real.jobs()"
   ]
  },
  {
   "cell_type": "markdown",
   "metadata": {},
   "source": [
    "Once your job has been completed, you can retrieve and interpret the results."
   ]
  },
  {
   "cell_type": "code",
   "execution_count": null,
   "metadata": {},
   "outputs": [],
   "source": [
    "from qiskit.visualization import plot_histogram\n",
    "\n",
    "counts = job_real.result().get_counts()\n",
    "plot_histogram(counts, figsize=(20, 8))"
   ]
  },
  {
   "cell_type": "code",
   "execution_count": null,
   "metadata": {},
   "outputs": [],
   "source": [
    "job_real_retrieved = backend_real.retrieve_job('6339c39a83172dbf1ad185e2')"
   ]
  },
  {
   "cell_type": "markdown",
   "metadata": {},
   "source": [
    "## References"
   ]
  },
  {
   "cell_type": "markdown",
   "metadata": {},
   "source": [
    "[1] A. A. Nel, ‘Crop rotation in the summer rainfall area of South Africa’, South African Journal of Plant and Soil, vol. 22, no. 4, pp. 274–278, Jan. 2005, doi: 10.1080/02571862.2005.10634721.\n",
    "\n",
    "[2] H. Ritchie and M. Roser, ‘Crop yields’, Our World in Data, 2013, [Online]. Available: https://ourworldindata.org/crop-yields.\n",
    "\n",
    "[3] G. Brion, ‘Controlling Pests with Plants: The power of intercropping’, UVM Food Feed, Jan. 09, 2014. https://learn.uvm.edu/foodsystemsblog/2014/01/09/controlling-pests-with-plants-the-power-of-intercropping/ (accessed Feb. 15, 2021).\n",
    "\n",
    "[4] N. O. Ogot, J. O. Pittchar, C. A. O. Midega, and Z. R. Khan, ‘Attributes of push-pull technology in enhancing food and nutrition security’, African Journal of Agriculture and Food Security, vol. 6, pp. 229–242, Mar. 2018."
   ]
  },
  {
   "cell_type": "code",
   "execution_count": 1,
   "metadata": {},
   "outputs": [
    {
     "name": "stderr",
     "output_type": "stream",
     "text": [
      "<frozen importlib._bootstrap>:219: RuntimeWarning: scipy._lib.messagestream.MessageStream size changed, may indicate binary incompatibility. Expected 56 from C header, got 64 from PyObject\n"
     ]
    },
    {
     "data": {
      "text/html": [
       "<h3>Version Information</h3><table><tr><th>Qiskit Software</th><th>Version</th></tr><tr><td><code>qiskit-terra</code></td><td>0.21.1</td></tr><tr><td><code>qiskit-aer</code></td><td>0.10.4</td></tr><tr><td><code>qiskit-ibmq-provider</code></td><td>0.19.2</td></tr><tr><td><code>qiskit</code></td><td>0.37.1</td></tr><tr><td><code>qiskit-nature</code></td><td>0.4.2</td></tr><tr><td><code>qiskit-finance</code></td><td>0.3.3</td></tr><tr><td><code>qiskit-optimization</code></td><td>0.4.0</td></tr><tr><td><code>qiskit-machine-learning</code></td><td>0.4.0</td></tr><tr><th>System information</th></tr><tr><td>Python version</td><td>3.8.13</td></tr><tr><td>Python compiler</td><td>GCC 10.3.0</td></tr><tr><td>Python build</td><td>default, Mar 25 2022 06:04:10</td></tr><tr><td>OS</td><td>Linux</td></tr><tr><td>CPUs</td><td>8</td></tr><tr><td>Memory (Gb)</td><td>31.211315155029297</td></tr><tr><td colspan='2'>Tue Oct 11 09:51:17 2022 UTC</td></tr></table>"
      ],
      "text/plain": [
       "<IPython.core.display.HTML object>"
      ]
     },
     "metadata": {},
     "output_type": "display_data"
    },
    {
     "data": {
      "text/html": [
       "<div style='width: 100%; background-color:#d5d9e0;padding-left: 10px; padding-bottom: 10px; padding-right: 10px; padding-top: 5px'><h3>This code is a part of Qiskit</h3><p>&copy; Copyright IBM 2017, 2022.</p><p>This code is licensed under the Apache License, Version 2.0. You may<br>obtain a copy of this license in the LICENSE.txt file in the root directory<br> of this source tree or at http://www.apache.org/licenses/LICENSE-2.0.<p>Any modifications or derivative works of this code must retain this<br>copyright notice, and modified files need to carry a notice indicating<br>that they have been altered from the originals.</p></div>"
      ],
      "text/plain": [
       "<IPython.core.display.HTML object>"
      ]
     },
     "metadata": {},
     "output_type": "display_data"
    }
   ],
   "source": [
    "import qiskit.tools.jupyter\n",
    "\n",
    "%qiskit_version_table\n",
    "%qiskit_copyright"
   ]
  }
 ],
 "metadata": {
  "kernelspec": {
   "display_name": "Python 3 (ipykernel)",
   "language": "python",
   "name": "python3"
  },
  "language_info": {
   "codemirror_mode": {
    "name": "ipython",
    "version": 3
   },
   "file_extension": ".py",
   "mimetype": "text/x-python",
   "name": "python",
   "nbconvert_exporter": "python",
   "pygments_lexer": "ipython3",
   "version": "3.8.13"
  },
  "toc": {
   "base_numbering": 1,
   "nav_menu": {},
   "number_sections": true,
   "sideBar": true,
   "skip_h1_title": false,
   "title_cell": "Table of Contents",
   "title_sidebar": "Contents",
   "toc_cell": false,
   "toc_position": {
    "height": "calc(100% - 180px)",
    "left": "10px",
    "top": "150px",
    "width": "195px"
   },
   "toc_section_display": true,
   "toc_window_display": true
  },
  "varInspector": {
   "cols": {
    "lenName": 16,
    "lenType": 16,
    "lenVar": 40
   },
   "kernels_config": {
    "python": {
     "delete_cmd_postfix": "",
     "delete_cmd_prefix": "del ",
     "library": "var_list.py",
     "varRefreshCmd": "print(var_dic_list())"
    },
    "r": {
     "delete_cmd_postfix": ") ",
     "delete_cmd_prefix": "rm(",
     "library": "var_list.r",
     "varRefreshCmd": "cat(var_dic_list()) "
    }
   },
   "oldHeight": 676.85,
   "position": {
    "height": "698.85px",
    "left": "2014px",
    "right": "20px",
    "top": "158px",
    "width": "477px"
   },
   "types_to_exclude": [
    "module",
    "function",
    "builtin_function_or_method",
    "instance",
    "_Feature"
   ],
   "varInspector_section_display": "block",
   "window_display": false
  },
  "widgets": {
   "application/vnd.jupyter.widget-state+json": {
    "state": {
     "088e18f8e9a54542938864d7f0240591": {
      "model_module": "@jupyter-widgets/controls",
      "model_module_version": "1.5.0",
      "model_name": "DescriptionStyleModel",
      "state": {
       "description_width": ""
      }
     },
     "16e4dd77205b4c1bbf6f87096e7ba9bd": {
      "model_module": "@jupyter-widgets/base",
      "model_module_version": "1.2.0",
      "model_name": "LayoutModel",
      "state": {
       "width": "70px"
      }
     },
     "1fb7956462ae4ec99aeb8b8288103d21": {
      "model_module": "@jupyter-widgets/base",
      "model_module_version": "1.2.0",
      "model_name": "LayoutModel",
      "state": {
       "width": "145px"
      }
     },
     "204304389324407692857e6159c3b8b5": {
      "model_module": "@jupyter-widgets/base",
      "model_module_version": "1.2.0",
      "model_name": "LayoutModel",
      "state": {
       "margin": "0px 0px 10px 0px"
      }
     },
     "4003db4878aa47a58a30c60e069bbc67": {
      "model_module": "@jupyter-widgets/base",
      "model_module_version": "1.2.0",
      "model_name": "LayoutModel",
      "state": {
       "width": "190px"
      }
     },
     "4f800917ee6c4da4827f3c154ad77f93": {
      "model_module": "@jupyter-widgets/controls",
      "model_module_version": "1.5.0",
      "model_name": "DescriptionStyleModel",
      "state": {
       "description_width": ""
      }
     },
     "5952a31bbea549e0bb396baa835123de": {
      "model_module": "@jupyter-widgets/controls",
      "model_module_version": "1.5.0",
      "model_name": "ButtonStyleModel",
      "state": {}
     },
     "70f8fb04938c4a0489f20e4f67f16eaa": {
      "model_module": "@jupyter-widgets/controls",
      "model_module_version": "1.5.0",
      "model_name": "GridBoxModel",
      "state": {
       "children": [
        "IPY_MODEL_eeeef2750e2640f0a90a8b339ed401eb"
       ],
       "layout": "IPY_MODEL_d8351aecbb904fe5a7901ad0ad2cc201"
      }
     },
     "723f9779bd004131a137fb335a78b978": {
      "model_module": "@jupyter-widgets/controls",
      "model_module_version": "1.5.0",
      "model_name": "DescriptionStyleModel",
      "state": {
       "description_width": ""
      }
     },
     "769a54fddd9e4fefa3f039e4da3c6aa7": {
      "model_module": "@jupyter-widgets/controls",
      "model_module_version": "1.5.0",
      "model_name": "HTMLModel",
      "state": {
       "layout": "IPY_MODEL_9931417e47564fef988f6fc8bca90c18",
       "style": "IPY_MODEL_723f9779bd004131a137fb335a78b978",
       "value": "<h5>Status</h5>"
      }
     },
     "79183b225d4947578881dd8bedb187da": {
      "model_module": "@jupyter-widgets/controls",
      "model_module_version": "1.5.0",
      "model_name": "HBoxModel",
      "state": {
       "children": [
        "IPY_MODEL_b231265a45fa4a3b8b6dac0bba4d503a",
        "IPY_MODEL_a4cd6dea57e54d4aab2309e246b3343a",
        "IPY_MODEL_769a54fddd9e4fefa3f039e4da3c6aa7",
        "IPY_MODEL_a7c807fdf3d84d57ad9ab23817c5d0b7",
        "IPY_MODEL_9de1335c8535423bb79c7488217d1847"
       ],
       "layout": "IPY_MODEL_fc1d4c5d714b4fa8a1a10dc590d4263f"
      }
     },
     "7976f27dbb1f4ec79d0f0552a75bffeb": {
      "model_module": "@jupyter-widgets/base",
      "model_module_version": "1.2.0",
      "model_name": "LayoutModel",
      "state": {
       "grid_area": "right",
       "padding": "0px 0px 0px 0px",
       "width": "70px"
      }
     },
     "892aace50f394d5984daf1c37e0bdf76": {
      "model_module": "@jupyter-widgets/base",
      "model_module_version": "1.2.0",
      "model_name": "LayoutModel",
      "state": {}
     },
     "89b3f5c0102041e184e9a436c29c8223": {
      "model_module": "@jupyter-widgets/controls",
      "model_module_version": "1.5.0",
      "model_name": "DescriptionStyleModel",
      "state": {
       "description_width": ""
      }
     },
     "91da48f1447a41b689811ad682b00293": {
      "model_module": "@jupyter-widgets/controls",
      "model_module_version": "1.5.0",
      "model_name": "DescriptionStyleModel",
      "state": {
       "description_width": ""
      }
     },
     "9931417e47564fef988f6fc8bca90c18": {
      "model_module": "@jupyter-widgets/base",
      "model_module_version": "1.2.0",
      "model_name": "LayoutModel",
      "state": {
       "width": "95px"
      }
     },
     "9de1335c8535423bb79c7488217d1847": {
      "model_module": "@jupyter-widgets/controls",
      "model_module_version": "1.5.0",
      "model_name": "HTMLModel",
      "state": {
       "layout": "IPY_MODEL_892aace50f394d5984daf1c37e0bdf76",
       "style": "IPY_MODEL_af995a69ce2042608a28f5c72d944804",
       "value": "<h5>Message</h5>"
      }
     },
     "a4cd6dea57e54d4aab2309e246b3343a": {
      "model_module": "@jupyter-widgets/controls",
      "model_module_version": "1.5.0",
      "model_name": "HTMLModel",
      "state": {
       "layout": "IPY_MODEL_1fb7956462ae4ec99aeb8b8288103d21",
       "style": "IPY_MODEL_4f800917ee6c4da4827f3c154ad77f93",
       "value": "<h5>Backend</h5>"
      }
     },
     "a7c807fdf3d84d57ad9ab23817c5d0b7": {
      "model_module": "@jupyter-widgets/controls",
      "model_module_version": "1.5.0",
      "model_name": "HTMLModel",
      "state": {
       "layout": "IPY_MODEL_16e4dd77205b4c1bbf6f87096e7ba9bd",
       "style": "IPY_MODEL_088e18f8e9a54542938864d7f0240591",
       "value": "<h5>Queue</h5>"
      }
     },
     "af995a69ce2042608a28f5c72d944804": {
      "model_module": "@jupyter-widgets/controls",
      "model_module_version": "1.5.0",
      "model_name": "DescriptionStyleModel",
      "state": {
       "description_width": ""
      }
     },
     "b231265a45fa4a3b8b6dac0bba4d503a": {
      "model_module": "@jupyter-widgets/controls",
      "model_module_version": "1.5.0",
      "model_name": "HTMLModel",
      "state": {
       "layout": "IPY_MODEL_4003db4878aa47a58a30c60e069bbc67",
       "style": "IPY_MODEL_91da48f1447a41b689811ad682b00293",
       "value": "<h5>Job ID</h5>"
      }
     },
     "d8351aecbb904fe5a7901ad0ad2cc201": {
      "model_module": "@jupyter-widgets/base",
      "model_module_version": "1.2.0",
      "model_name": "LayoutModel",
      "state": {
       "grid_template_areas": "\n                                       \". . . . right \"\n                                        ",
       "grid_template_columns": "20% 20% 20% 20% 20%",
       "width": "100%"
      }
     },
     "da625883bd9a4a6aacf4ee457c573e1c": {
      "model_module": "@jupyter-widgets/controls",
      "model_module_version": "1.5.0",
      "model_name": "HTMLModel",
      "state": {
       "layout": "IPY_MODEL_204304389324407692857e6159c3b8b5",
       "style": "IPY_MODEL_89b3f5c0102041e184e9a436c29c8223",
       "value": "<p style='font-family: IBM Plex Sans, Arial, Helvetica, sans-serif; font-size: 20px; font-weight: medium;'>Circuit Properties</p>"
      }
     },
     "eeeef2750e2640f0a90a8b339ed401eb": {
      "model_module": "@jupyter-widgets/controls",
      "model_module_version": "1.5.0",
      "model_name": "ButtonModel",
      "state": {
       "button_style": "primary",
       "description": "Clear",
       "layout": "IPY_MODEL_7976f27dbb1f4ec79d0f0552a75bffeb",
       "style": "IPY_MODEL_5952a31bbea549e0bb396baa835123de"
      }
     },
     "fc1d4c5d714b4fa8a1a10dc590d4263f": {
      "model_module": "@jupyter-widgets/base",
      "model_module_version": "1.2.0",
      "model_name": "LayoutModel",
      "state": {
       "margin": "0px 0px 0px 37px",
       "width": "600px"
      }
     }
    },
    "version_major": 2,
    "version_minor": 0
   }
  }
 },
 "nbformat": 4,
 "nbformat_minor": 4
}
